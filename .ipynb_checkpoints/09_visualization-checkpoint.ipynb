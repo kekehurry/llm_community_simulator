{
 "cells": [
  {
   "cell_type": "code",
   "execution_count": 4,
   "id": "3f2a0d50-33b8-4ac9-8468-bd34d08e78a2",
   "metadata": {},
   "outputs": [
    {
     "data": {
      "text/html": [
       "\n",
       "<iframe src=\"sim_media_graph/remove_long_term_project_9.html\" width=\"800\" height=\"600\" style=\"border:none;\"></iframe>\n"
      ],
      "text/plain": [
       "<IPython.core.display.HTML object>"
      ]
     },
     "metadata": {},
     "output_type": "display_data"
    }
   ],
   "source": [
    "from IPython.core.display import HTML\n",
    "\n",
    "iframe_code = \"\"\"\n",
    "<iframe src=\"remove_long_term_project/remove_long_term_project_9.html\" width=\"800\" height=\"600\" style=\"border:none;\"></iframe>\n",
    "\"\"\"\n",
    "\n",
    "display(HTML(iframe_code))\n"
   ]
  },
  {
   "cell_type": "code",
   "execution_count": null,
   "id": "020fadaa-3f07-4ec3-bd33-b6e715699188",
   "metadata": {},
   "outputs": [],
   "source": []
  }
 ],
 "metadata": {
  "kernelspec": {
   "display_name": "Python 3 (ipykernel)",
   "language": "python",
   "name": "python3"
  },
  "language_info": {
   "codemirror_mode": {
    "name": "ipython",
    "version": 3
   },
   "file_extension": ".py",
   "mimetype": "text/x-python",
   "name": "python",
   "nbconvert_exporter": "python",
   "pygments_lexer": "ipython3",
   "version": "3.11.9"
  }
 },
 "nbformat": 4,
 "nbformat_minor": 5
}
