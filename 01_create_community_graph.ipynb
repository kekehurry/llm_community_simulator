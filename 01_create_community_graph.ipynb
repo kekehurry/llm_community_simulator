{
 "cells": [
  {
   "cell_type": "code",
   "execution_count": 1,
   "metadata": {},
   "outputs": [],
   "source": [
    "import json\n",
    "import networkx as nx\n",
    "from langchain_community.embeddings import OllamaEmbeddings\n",
    "import pickle\n",
    "import numpy as np\n",
    "import pandas as pd\n",
    "import matplotlib.pyplot as plt"
   ]
  },
  {
   "cell_type": "markdown",
   "metadata": {},
   "source": [
    "# Data preprocess"
   ]
  },
  {
   "cell_type": "code",
   "execution_count": 2,
   "metadata": {},
   "outputs": [
    {
     "data": {
      "text/plain": [
       "Actors                475\n",
       "Media Content         217\n",
       "Organization          198\n",
       "Event                 187\n",
       "Short-term Project     25\n",
       "Long-term Project      18\n",
       "Space                  11\n",
       "Name: nodetype, dtype: int64"
      ]
     },
     "execution_count": 2,
     "metadata": {},
     "output_type": "execute_result"
    }
   ],
   "source": [
    "node_df = pd.read_csv('nodes.csv')\n",
    "node_df = node_df.fillna(-1)\n",
    "node_df['nodetype'].value_counts()"
   ]
  },
  {
   "cell_type": "markdown",
   "metadata": {},
   "source": [
    "### convert date to period"
   ]
  },
  {
   "cell_type": "code",
   "execution_count": 3,
   "metadata": {},
   "outputs": [],
   "source": [
    "N = 10\n",
    "node_df['date'] = pd.to_datetime(node_df['date'])\n",
    "date_min = node_df['date'].min()\n",
    "date_max = node_df['date'].max()\n",
    "gap = (date_max - date_min)/(N-1)\n",
    "period = (node_df['date']-date_min)//gap\n",
    "node_df['period'] = period\n",
    "# node_df['period'].value_counts().sort_index()"
   ]
  },
  {
   "cell_type": "code",
   "execution_count": 4,
   "metadata": {},
   "outputs": [
    {
     "name": "stdout",
     "output_type": "stream",
     "text": [
      "146 days 08:00:00\n"
     ]
    }
   ],
   "source": [
    "print(gap)"
   ]
  },
  {
   "cell_type": "code",
   "execution_count": 5,
   "metadata": {},
   "outputs": [
    {
     "data": {
      "text/plain": [
       "0    129\n",
       "1    120\n",
       "2    179\n",
       "3    216\n",
       "4     97\n",
       "5     85\n",
       "6     89\n",
       "7    111\n",
       "8    103\n",
       "9      2\n",
       "Name: period, dtype: int64"
      ]
     },
     "execution_count": 5,
     "metadata": {},
     "output_type": "execute_result"
    }
   ],
   "source": [
    "node_df['period'].value_counts().sort_index()"
   ]
  },
  {
   "cell_type": "code",
   "execution_count": 4,
   "metadata": {},
   "outputs": [],
   "source": [
    "edge_df = pd.read_csv('links.csv')\n",
    "edge_df = edge_df.fillna(-1)\n",
    "edge_df['date'] = pd.to_datetime(edge_df['date'])\n",
    "edge_df['period'] = (edge_df['date']-date_min)//gap\n",
    "# edge_df['period'].value_counts().sort_index()"
   ]
  },
  {
   "cell_type": "markdown",
   "metadata": {},
   "source": [
    "# Create Community Graph"
   ]
  },
  {
   "cell_type": "code",
   "execution_count": 5,
   "metadata": {},
   "outputs": [],
   "source": [
    "from collections import defaultdict\n",
    "G = nx.DiGraph()\n",
    "count = defaultdict(int)\n",
    "for i, node in node_df.iterrows():\n",
    "    \n",
    "    if node['nodetype'] == 'Actors':\n",
    "        # Actor\n",
    "        props = ['age','gender','marrige','withkids','student','workstatue','residentinneighbor','educationlevel']\n",
    "        G.add_node(int(node['nodeid']), type=node['nodetype'], period = node['period'], properties=node[props].to_dict(), label=node['nodetype'])\n",
    "    elif node['nodetype'] == 'Space':\n",
    "        # Space\n",
    "        G.add_node(int(node['nodeid']), type=node['nodetype'], period = node['period'], properties=node[['spacefunction']].to_dict(),label=node['nodetype'])\n",
    "    else:\n",
    "        # Organization, Event, Short-term Project, Long-term Project , Media Content\n",
    "        G.add_node(int(node['nodeid']),type=node['nodetype'], period = node['period'], properties=node[['eventtopic']].to_dict(),label=node['nodetype'])\n",
    "\n",
    "for j, edge in edge_df.iterrows():\n",
    "    source = int(edge['source'])\n",
    "    target = int(edge['target'])\n",
    "    if source in G.nodes() and target in G.nodes():\n",
    "        # weight links by the number of connections\n",
    "        count[str([source, target])] += 1\n",
    "        G.add_edge(source, target, period=edge['period'], weight= count[str([source, target])], type=\"choose_to\",label=\"connected_to\")"
   ]
  },
  {
   "cell_type": "markdown",
   "metadata": {},
   "source": [
    "# Embbeding"
   ]
  },
  {
   "cell_type": "code",
   "execution_count": 6,
   "metadata": {},
   "outputs": [],
   "source": [
    "embed_model = OllamaEmbeddings(model='nomic-embed-text')\n",
    "\n",
    "for i,d in G.nodes(data=True):\n",
    "    d['embedding'] = embed_model.embed_query(d['properties'])\n"
   ]
  },
  {
   "cell_type": "markdown",
   "metadata": {},
   "source": [
    "# Save the graph"
   ]
  },
  {
   "cell_type": "code",
   "execution_count": 7,
   "metadata": {},
   "outputs": [],
   "source": [
    "# save the embeded graph\n",
    "with open(\"community_graph_embeded.pkl\", \"wb\") as f:\n",
    "    pickle.dump(G, f)"
   ]
  },
  {
   "cell_type": "code",
   "execution_count": null,
   "metadata": {},
   "outputs": [],
   "source": []
  }
 ],
 "metadata": {
  "kernelspec": {
   "display_name": "Python 3 (ipykernel)",
   "language": "python",
   "name": "python3"
  },
  "language_info": {
   "codemirror_mode": {
    "name": "ipython",
    "version": 3
   },
   "file_extension": ".py",
   "mimetype": "text/x-python",
   "name": "python",
   "nbconvert_exporter": "python",
   "pygments_lexer": "ipython3",
   "version": "3.11.9"
  }
 },
 "nbformat": 4,
 "nbformat_minor": 4
}
