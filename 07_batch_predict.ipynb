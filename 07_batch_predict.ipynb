{
 "cells": [
  {
   "cell_type": "code",
   "execution_count": 1,
   "metadata": {},
   "outputs": [],
   "source": [
    "from choice_model import ChoiceModel\n",
    "\n",
    "folder = 'new_graph'\n",
    "\n",
    "def predict(period,remove_type='Long-term Project'):\n",
    "    model = ChoiceModel()\n",
    "    prev_period_file = f'{folder}/{folder}_{period-1}.pkl'\n",
    "    new_model = ChoiceModel(graph_path=prev_period_file) \n",
    "    graph = model.get_period(period)\n",
    "    new_nodes = [n for n in graph.nodes if n not in list(new_model.graph.nodes)]\n",
    "    new_nodes = [n for n in new_nodes if graph.nodes[n]['type'] != remove_type]\n",
    "    test_graph = new_model.graph.copy()\n",
    "    test_graph = model.predict_links(test_graph, new_nodes, file_name=f\"{folder}/{folder}_{period}.pkl\",\n",
    "                                     choice_type=['Actors'])\n",
    "    new_model = ChoiceModel(graph_path=f\"{folder}/{folder}_{period}.pkl\")\n",
    "    issolated_nodes = new_model.get_isolated_nodes()\n",
    "    if len(issolated_nodes) > 0:\n",
    "        test_graph = new_model.graph.copy()\n",
    "        test_graph = model.predict_links(test_graph, issolated_nodes,file_name=f\"{folder}/{folder}_{period}.pkl\",k1=10,k2=5,top_k=5)\n",
    "        new_model.remove_isolated_nodes()\n",
    "    new_model.visualize(file_name=f\"{folder}/{folder}_{period}.html\")\n",
    "    PPI, CVI, DCI = new_model.evaluate(test_graph)\n",
    "    print(f\"Period {period} PPI: {PPI} CVI: {CVI} DCI: {DCI}\")\n"
   ]
  },
  {
   "cell_type": "code",
   "execution_count": 2,
   "metadata": {},
   "outputs": [
    {
     "name": "stderr",
     "output_type": "stream",
     "text": [
      "  1%|▏         | 1/75 [00:07<09:28,  7.69s/it]"
     ]
    },
    {
     "name": "stdout",
     "output_type": "stream",
     "text": [
      "'answer'\n"
     ]
    },
    {
     "name": "stderr",
     "output_type": "stream",
     "text": [
      " 56%|█████▌    | 42/75 [08:49<07:15, 13.19s/it]"
     ]
    },
    {
     "name": "stdout",
     "output_type": "stream",
     "text": [
      "'answer'\n"
     ]
    },
    {
     "name": "stderr",
     "output_type": "stream",
     "text": [
      " 77%|███████▋  | 58/75 [19:56<16:02, 56.61s/it] "
     ]
    },
    {
     "name": "stdout",
     "output_type": "stream",
     "text": [
      "'answer'\n"
     ]
    },
    {
     "name": "stderr",
     "output_type": "stream",
     "text": [
      "100%|██████████| 75/75 [23:12<00:00, 18.57s/it]\n"
     ]
    },
    {
     "name": "stdout",
     "output_type": "stream",
     "text": [
      "Period 1 PPI: 0.3486439580827335 CVI: 4.520408163265306 DCI: 0.07692307692307693\n"
     ]
    },
    {
     "name": "stderr",
     "output_type": "stream",
     "text": [
      "  8%|▊         | 9/118 [01:46<19:10, 10.56s/it]"
     ]
    }
   ],
   "source": [
    "for i in range(1,5):\n",
    "    predict(i)"
   ]
  },
  {
   "cell_type": "code",
   "execution_count": null,
   "metadata": {},
   "outputs": [],
   "source": []
  }
 ],
 "metadata": {
  "kernelspec": {
   "display_name": "pytorch",
   "language": "python",
   "name": "python3"
  },
  "language_info": {
   "codemirror_mode": {
    "name": "ipython",
    "version": 3
   },
   "file_extension": ".py",
   "mimetype": "text/x-python",
   "name": "python",
   "nbconvert_exporter": "python",
   "pygments_lexer": "ipython3",
   "version": "3.8.18"
  }
 },
 "nbformat": 4,
 "nbformat_minor": 2
}
