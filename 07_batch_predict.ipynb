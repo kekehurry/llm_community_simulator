{
 "cells": [
  {
   "cell_type": "code",
   "execution_count": 1,
   "metadata": {},
   "outputs": [],
   "source": [
    "from choice_model import ChoiceModel\n",
    "\n",
    "def predict(period):\n",
    "    model = ChoiceModel()\n",
    "    prev_period_file = f'new_graph/new_graph_{period-1}.pkl'\n",
    "    new_model = ChoiceModel(graph_path=prev_period_file) \n",
    "    graph = model.get_period(period)\n",
    "    new_nodes = [n for n in graph.nodes if n not in list(new_model.graph.nodes)]\n",
    "    new_nodes = [n for n in new_nodes if graph.nodes[n]['type'] != 'Long-term Project']\n",
    "    test_graph = new_model.graph.copy()\n",
    "    test_graph = model.predict_links(test_graph, new_nodes, file_name=f\"new_graph/new_graph_{period}.pkl\",period=period)\n",
    "    new_model = ChoiceModel(graph_path=f\"new_graph/new_graph_{period}.pkl\")\n",
    "    issolated_nodes = new_model.get_isolated_nodes()\n",
    "    if len(issolated_nodes) > 0:\n",
    "        test_graph = new_model.graph.copy()\n",
    "        test_graph = model.predict_links(test_graph, issolated_nodes,file_name=f\"new_graph/new_graph_{period}.pkl\")\n",
    "        new_model.remove_isolated_nodes()\n",
    "    new_model.visualize(file_name=f\"new_graph/new_graph_{period}.html\")\n",
    "    PPI, CVI, DCI = new_model.evaluate(test_graph)\n",
    "    print(f\"Period {period} PPI: {PPI} CVI: {CVI} DCI: {DCI}\")\n"
   ]
  },
  {
   "cell_type": "code",
   "execution_count": 2,
   "metadata": {},
   "outputs": [
    {
     "name": "stderr",
     "output_type": "stream",
     "text": [
      " 78%|███████▊  | 59/76 [14:42<02:44,  9.66s/it]"
     ]
    },
    {
     "name": "stdout",
     "output_type": "stream",
     "text": [
      "'answer'\n"
     ]
    },
    {
     "name": "stderr",
     "output_type": "stream",
     "text": [
      "100%|██████████| 76/76 [17:58<00:00, 14.19s/it]\n"
     ]
    },
    {
     "name": "stdout",
     "output_type": "stream",
     "text": [
      "'answer'\n"
     ]
    },
    {
     "name": "stderr",
     "output_type": "stream",
     "text": [
      "100%|██████████| 2/2 [00:56<00:00, 28.27s/it]"
     ]
    },
    {
     "name": "stdout",
     "output_type": "stream",
     "text": [
      "Period 1 PPI: 0.23372648083623696 CVI: 3.69 DCI: 0.07317073170731707\n"
     ]
    },
    {
     "name": "stderr",
     "output_type": "stream",
     "text": [
      "\n"
     ]
    }
   ],
   "source": [
    "for i in range(1,10):\n",
    "    predict(i)"
   ]
  },
  {
   "cell_type": "code",
   "execution_count": null,
   "metadata": {},
   "outputs": [],
   "source": []
  }
 ],
 "metadata": {
  "kernelspec": {
   "display_name": "pytorch",
   "language": "python",
   "name": "python3"
  },
  "language_info": {
   "codemirror_mode": {
    "name": "ipython",
    "version": 3
   },
   "file_extension": ".py",
   "mimetype": "text/x-python",
   "name": "python",
   "nbconvert_exporter": "python",
   "pygments_lexer": "ipython3",
   "version": "3.8.18"
  }
 },
 "nbformat": 4,
 "nbformat_minor": 2
}
