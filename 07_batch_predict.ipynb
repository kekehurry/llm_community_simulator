{
 "cells": [
  {
   "cell_type": "code",
   "execution_count": 1,
   "metadata": {
    "editable": true,
    "slideshow": {
     "slide_type": ""
    },
    "tags": []
   },
   "outputs": [
    {
     "name": "stdout",
     "output_type": "stream",
     "text": [
      "Saving graph to sim_data/sim_data_0.pkl\n"
     ]
    }
   ],
   "source": [
    "from choice_model import ChoiceModel\n",
    "import os\n",
    "\n",
    "folder = 'sim_data'\n",
    "# base_url = 'http://10.31.183.83:11434'\n",
    "base_url = 'http://localhost:11434'\n",
    "# remove_type = 'Long-term Project'\n",
    "remove_type = None\n",
    "if not os.path.exists(folder):\n",
    "    os.makedirs(folder)\n",
    "\n",
    "old_model = ChoiceModel(base_url=base_url)\n",
    "old_model.roll_back(0)\n",
    "init_graph = old_model.graph.copy()\n",
    "nodes = [n for n in init_graph.nodes if init_graph.nodes[n]['type'] != remove_type]\n",
    "test_graph = init_graph.subgraph(nodes).copy()\n",
    "old_model.save_graph(file_name=f\"{folder}/{folder}_0.pkl\")\n",
    "old_model.visualize(file_name=f\"{folder}/{folder}_0.html\")"
   ]
  },
  {
   "cell_type": "code",
   "execution_count": 2,
   "metadata": {},
   "outputs": [],
   "source": [
    "from choice_model import ChoiceModel\n",
    "\n",
    "\n",
    "def predict(period,remove_type=None, k1=5,k2=1,top_k=10):\n",
    "    model = ChoiceModel(base_url=base_url)\n",
    "    prev_period_file = f'{folder}/{folder}_{period-1}.pkl'\n",
    "    new_model = ChoiceModel(graph_path=prev_period_file,base_url=base_url) \n",
    "    graph = model.get_period(period)\n",
    "    new_nodes = [n for n in graph.nodes if n not in list(new_model.graph.nodes)]\n",
    "    new_nodes = [n for n in new_nodes if graph.nodes[n]['type'] != remove_type]\n",
    "    new_nodes = new_nodes[:10]\n",
    "    test_graph = new_model.graph.copy()\n",
    "\n",
    "    print(\"begin simulation\",len(test_graph.nodes),len(test_graph.edges))\n",
    "    test_graph,failed_nodes = model.predict_links(test_graph, new_nodes, file_name=f\"{folder}/{folder}_{period}.pkl\",\n",
    "                                     choice_type=None,k1=k1,k2=k2,top_k=top_k,period=period)\n",
    "    \n",
    "    if len(failed_nodes) > 0:\n",
    "        print(\"retrying failed nodes\")\n",
    "        test_graph,_ = model.predict_links(test_graph, failed_nodes, file_name=f\"{folder}/{folder}_{period}.pkl\",\n",
    "                                     choice_type=None,k1=k1,k2=k2,top_k=top_k,period=period)\n",
    "\n",
    "    issolated_nodes = model.get_isolated_nodes(graph=test_graph)\n",
    "    if len(issolated_nodes) > 0:\n",
    "        print(\"retrying issolated nodes\")\n",
    "        test_graph,_ = model.predict_links(test_graph, issolated_nodes, file_name=f\"{folder}/{folder}_{period}.pkl\",\n",
    "                                     choice_type=None,k1=k1,k2=k2,top_k=top_k,period=period)\n",
    "        test_graph = model.remove_isolated_nodes(graph=test_graph)\n",
    "        model.save_graph(file_name=f\"{folder}/{folder}_{period}.pkl\",graph=test_graph)\n",
    "\n",
    "    new_model = ChoiceModel(graph_path=f\"{folder}/{folder}_{period}.pkl\")\n",
    "    new_model.visualize(file_name=f\"{folder}/{folder}_{period}.html\")\n",
    "    print(\"end simulation\",len(test_graph.nodes),len(test_graph.edges))\n",
    "    PPI, CVI, DCI = new_model.evaluate(test_graph)\n",
    "    print(f\"Period {period} PPI: {PPI} CVI: {CVI} DCI: {DCI}\")\n"
   ]
  },
  {
   "cell_type": "code",
   "execution_count": null,
   "metadata": {},
   "outputs": [],
   "source": [
    "for i in range(1,10):\n",
    "    predict(i,remove_type=remove_type)"
   ]
  },
  {
   "cell_type": "code",
   "execution_count": null,
   "metadata": {},
   "outputs": [],
   "source": []
  }
 ],
 "metadata": {
  "kernelspec": {
   "display_name": "Python 3 (ipykernel)",
   "language": "python",
   "name": "python3"
  },
  "language_info": {
   "codemirror_mode": {
    "name": "ipython",
    "version": 3
   },
   "file_extension": ".py",
   "mimetype": "text/x-python",
   "name": "python",
   "nbconvert_exporter": "python",
   "pygments_lexer": "ipython3",
   "version": "3.8.18"
  }
 },
 "nbformat": 4,
 "nbformat_minor": 4
}
