{
 "cells": [
  {
   "cell_type": "code",
   "execution_count": 1,
   "metadata": {
    "editable": true,
    "slideshow": {
     "slide_type": ""
    },
    "tags": []
   },
   "outputs": [
    {
     "name": "stdout",
     "output_type": "stream",
     "text": [
      "Saving graph to remove_long_term_project/remove_long_term_project_0.pkl\n"
     ]
    }
   ],
   "source": [
    "from choice_model import ChoiceModel\n",
    "import os\n",
    "\n",
    "folder = 'remove_long_term_project'\n",
    "base_url = 'http://10.31.183.83:11434'\n",
    "# base_url = 'http://localhost:11434'\n",
    "remove_type = 'Long-term Project'\n",
    "# remove_type = None\n",
    "if not os.path.exists(folder):\n",
    "    os.makedirs(folder)\n",
    "\n",
    "old_model = ChoiceModel(base_url=base_url)\n",
    "old_model.roll_back(0)\n",
    "init_graph = old_model.graph.copy()\n",
    "nodes = [n for n in init_graph.nodes if init_graph.nodes[n]['type'] != remove_type]\n",
    "test_graph = init_graph.subgraph(nodes).copy()\n",
    "\n",
    "old_model.save_graph(file_name=f\"{folder}/{folder}_0.pkl\")\n",
    "old_model.visualize(file_name=f\"{folder}/{folder}_0.html\")"
   ]
  },
  {
   "cell_type": "code",
   "execution_count": 2,
   "metadata": {},
   "outputs": [],
   "source": [
    "from choice_model import ChoiceModel\n",
    "\n",
    "\n",
    "def predict(period,remove_type=None, k1=5,k2=1,top_k=10):\n",
    "    model = ChoiceModel(base_url=base_url)\n",
    "    prev_period_file = f'{folder}/{folder}_{period-1}.pkl'\n",
    "    new_model = ChoiceModel(graph_path=prev_period_file,base_url=base_url) \n",
    "    graph = model.get_period(period)\n",
    "    new_nodes = [n for n in graph.nodes if n not in list(new_model.graph.nodes)]\n",
    "    new_nodes = [n for n in new_nodes if graph.nodes[n]['type'] != remove_type]\n",
    "    new_nodes = sorted(new_nodes,key=lambda x: graph.nodes[x]['type'])\n",
    "    test_graph = new_model.graph.copy()\n",
    "    print(\"begin simulation\",len(test_graph.nodes),len(test_graph.edges))\n",
    "    test_graph,failed_nodes = model.predict_links(test_graph, new_nodes, file_name=f\"{folder}/{folder}_{period}.pkl\",\n",
    "                                     choice_type=None,k1=k1,k2=k2,top_k=top_k)\n",
    "    \n",
    "    if len(failed_nodes) > 0:\n",
    "        print(\"retrying failed nodes\")\n",
    "        test_graph,_ = model.predict_links(test_graph, failed_nodes,file_name=f\"{folder}/{folder}_{period}.pkl\",k1=k1,k2=k2,top_k=top_k)\n",
    "\n",
    "    issolated_nodes = model.get_isolated_nodes(graph=test_graph)\n",
    "    if len(issolated_nodes) > 0:\n",
    "        print(\"retrying issolated nodes\")\n",
    "        test_graph,_ = model.predict_links(test_graph, issolated_nodes,file_name=f\"{folder}/{folder}_{period}.pkl\",k1=k1,k2=k2,top_k=top_k)\n",
    "        test_graph = model.remove_isolated_nodes(graph=test_graph)\n",
    "        model.save_graph(file_name=f\"{folder}/{folder}_{period}.pkl\",graph=test_graph)\n",
    "\n",
    "    new_model = ChoiceModel(graph_path=f\"{folder}/{folder}_{period}.pkl\")\n",
    "    new_model.visualize(file_name=f\"{folder}/{folder}_{period}.html\")\n",
    "    print(\"end simulation\",len(test_graph.nodes),len(test_graph.edges))\n",
    "    PPI, CVI, DCI = new_model.evaluate(test_graph)\n",
    "    print(f\"Period {period} PPI: {PPI} CVI: {CVI} DCI: {DCI}\")\n"
   ]
  },
  {
   "cell_type": "code",
   "execution_count": null,
   "metadata": {},
   "outputs": [
    {
     "name": "stdout",
     "output_type": "stream",
     "text": [
      "begin simulation 99 178\n"
     ]
    },
    {
     "name": "stderr",
     "output_type": "stream",
     "text": [
      "  1%|██                                                                                                                                                       | 1/74 [00:11<13:50, 11.38s/it]"
     ]
    },
    {
     "name": "stdout",
     "output_type": "stream",
     "text": [
      "'answer'\n"
     ]
    },
    {
     "name": "stderr",
     "output_type": "stream",
     "text": [
      "100%|████████████████████████████████████████████████████████████████████████████████████████████████████████████████████████████████████████████████████████| 74/74 [12:05<00:00,  9.80s/it]\n"
     ]
    },
    {
     "name": "stdout",
     "output_type": "stream",
     "text": [
      "Saving graph to remove_long_term_project/remove_long_term_project_1.pkl\n",
      "retrying failed nodes\n"
     ]
    },
    {
     "name": "stderr",
     "output_type": "stream",
     "text": [
      "100%|██████████████████████████████████████████████████████████████████████████████████████████████████████████████████████████████████████████████████████████| 1/1 [00:22<00:00, 22.71s/it]\n"
     ]
    },
    {
     "name": "stdout",
     "output_type": "stream",
     "text": [
      "'answer'\n",
      "Saving graph to remove_long_term_project/remove_long_term_project_1.pkl\n",
      "end simulation 172 347\n",
      "Period 1 PPI: 0.42163189813189816 CVI: 3.93 DCI: 0.08108108108108109\n",
      "begin simulation 172 347\n"
     ]
    },
    {
     "name": "stderr",
     "output_type": "stream",
     "text": [
      " 43%|█████████████████████████████████████████████████████████████████▎                                                                                     | 51/118 [08:25<11:48, 10.58s/it]"
     ]
    },
    {
     "name": "stdout",
     "output_type": "stream",
     "text": [
      "'answer'\n"
     ]
    },
    {
     "name": "stderr",
     "output_type": "stream",
     "text": [
      " 47%|███████████████████████████████████████████████████████████████████████▋                                                                               | 56/118 [09:08<08:59,  8.69s/it]"
     ]
    },
    {
     "name": "stdout",
     "output_type": "stream",
     "text": [
      "'answer'\n"
     ]
    },
    {
     "name": "stderr",
     "output_type": "stream",
     "text": [
      " 77%|████████████████████████████████████████████████████████████████████████████████████████████████████████████████████▍                                  | 91/118 [14:33<03:27,  7.70s/it]"
     ]
    },
    {
     "name": "stdout",
     "output_type": "stream",
     "text": [
      "'answer'\n"
     ]
    },
    {
     "name": "stderr",
     "output_type": "stream",
     "text": [
      "100%|██████████████████████████████████████████████████████████████████████████████████████████████████████████████████████████████████████████████████████| 118/118 [18:50<00:00,  9.58s/it]\n"
     ]
    },
    {
     "name": "stdout",
     "output_type": "stream",
     "text": [
      "Saving graph to remove_long_term_project/remove_long_term_project_2.pkl\n",
      "retrying failed nodes\n"
     ]
    },
    {
     "name": "stderr",
     "output_type": "stream",
     "text": [
      "100%|██████████████████████████████████████████████████████████████████████████████████████████████████████████████████████████████████████████████████████████| 3/3 [00:26<00:00,  8.86s/it]\n"
     ]
    },
    {
     "name": "stdout",
     "output_type": "stream",
     "text": [
      "Saving graph to remove_long_term_project/remove_long_term_project_2.pkl\n",
      "retrying issolated nodes\n"
     ]
    },
    {
     "name": "stderr",
     "output_type": "stream",
     "text": [
      "100%|██████████████████████████████████████████████████████████████████████████████████████████████████████████████████████████████████████████████████████████| 1/1 [00:06<00:00,  6.66s/it]\n"
     ]
    },
    {
     "name": "stdout",
     "output_type": "stream",
     "text": [
      "Saving graph to remove_long_term_project/remove_long_term_project_2.pkl\n",
      "Removed 0 isolated nodes\n",
      "Saving graph to remove_long_term_project/remove_long_term_project_2.pkl\n",
      "end simulation 290 614\n",
      "Period 2 PPI: 0.457526010809421 CVI: 3.9761904761904763 DCI: 0.08108108108108109\n",
      "begin simulation 290 614\n"
     ]
    },
    {
     "name": "stderr",
     "output_type": "stream",
     "text": [
      "  4%|█████▋                                                                                                                                                  | 6/162 [01:02<28:41, 11.04s/it]"
     ]
    }
   ],
   "source": [
    "for i in range(1,10):\n",
    "    predict(i,remove_type=remove_type)"
   ]
  },
  {
   "cell_type": "code",
   "execution_count": null,
   "metadata": {},
   "outputs": [],
   "source": []
  }
 ],
 "metadata": {
  "kernelspec": {
   "display_name": "Python 3 (ipykernel)",
   "language": "python",
   "name": "python3"
  },
  "language_info": {
   "codemirror_mode": {
    "name": "ipython",
    "version": 3
   },
   "file_extension": ".py",
   "mimetype": "text/x-python",
   "name": "python",
   "nbconvert_exporter": "python",
   "pygments_lexer": "ipython3",
   "version": "3.11.9"
  }
 },
 "nbformat": 4,
 "nbformat_minor": 4
}
