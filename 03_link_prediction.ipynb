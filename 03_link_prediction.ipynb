{
 "cells": [
  {
   "cell_type": "code",
   "execution_count": 1,
   "metadata": {},
   "outputs": [],
   "source": [
    "from choice_model import ChoiceModel\n",
    "import networkx as nx\n",
    "model = ChoiceModel()"
   ]
  },
  {
   "cell_type": "code",
   "execution_count": 2,
   "metadata": {},
   "outputs": [],
   "source": [
    "period = 0\n",
    "example_input = {\n",
    "'age': '18-35',\n",
    "'gender': 'Female',\n",
    "'marrige': 'Yes',\n",
    "'withkids': 'No',\n",
    "'student': 'Yes',\n",
    "'workstatue': 'Freelancer',\n",
    "'residentinneighbor': 'No',\n",
    "'educationlevel': 'Undergraduate'\n",
    "}\n",
    "k1 = 10\n",
    "k2 = 5\n",
    "model.set_period(period)"
   ]
  },
  {
   "cell_type": "code",
   "execution_count": 3,
   "metadata": {},
   "outputs": [
    {
     "name": "stdout",
     "output_type": "stream",
     "text": [
      "Similar nodes:  [12, 469, 539, 154, 575, 457, 768, 772, 513, 1079, 686, 702, 705, 714, 725, 681, 464, 373, 49, 603, 573, 683, 698, 700, 709]\n",
      "Scores:  [0.49987637996673584, 0.49987637996673584, 0.49987637996673584, 0.49987637996673584, 0.49987637996673584, 0.6176310777664185, 0.6176310777664185, 0.6176310777664185, 0.6176310777664185, 0.6176310777664185, 0.6176310777664185, 0.6176310777664185, 0.6176310777664185, 0.6176310777664185, 0.6176310777664185, 0.6176310777664185, 0.6176310777664185, 0.6176310777664185, 0.6176310777664185, 0.6176310777664185, 0.7890002727508545, 0.7890002727508545, 0.7890002727508545, 0.7890002727508545, 0.7890002727508545]\n"
     ]
    }
   ],
   "source": [
    "similar_nodes,similar_scores = model.similarity_search(example_input, k1, k2)\n",
    "print(\"Similar nodes: \", similar_nodes) \n",
    "print(\"Scores: \", similar_scores)"
   ]
  },
  {
   "cell_type": "markdown",
   "metadata": {},
   "source": [
    "# Create Subgraph of similar nodes and their neighbors"
   ]
  },
  {
   "cell_type": "code",
   "execution_count": 4,
   "metadata": {},
   "outputs": [],
   "source": [
    "neighbors = []\n",
    "for n in similar_nodes:\n",
    "    neighbors.extend(list(model.graph.neighbors(n)))\n",
    "    neighbors.append(n) \n",
    "sub_graph = nx.subgraph_view(model.graph, filter_node=lambda n: n in neighbors)"
   ]
  },
  {
   "cell_type": "code",
   "execution_count": 5,
   "metadata": {},
   "outputs": [
    {
     "name": "stdout",
     "output_type": "stream",
     "text": [
      "Neighbors:  [768, 513, 772, 1030, 1035, 12, 1037, 270, 662, 154, 1050, 539, 1055, 1056, 681, 811, 683, 686, 49, 181, 1079, 698, 700, 1085, 702, 575, 61, 705, 573, 1091, 1092, 963, 964, 709, 457, 970, 714, 1097, 464, 592, 469, 982, 725, 217, 603, 994, 995, 226, 756, 373, 1022]\n"
     ]
    }
   ],
   "source": [
    "neighbors = list(set(neighbors))\n",
    "print(\"Neighbors: \", neighbors)"
   ]
  },
  {
   "cell_type": "markdown",
   "metadata": {},
   "source": [
    "# Add Predict Node to the Subgraph"
   ]
  },
  {
   "cell_type": "code",
   "execution_count": 6,
   "metadata": {},
   "outputs": [],
   "source": [
    "compute_graph = sub_graph.copy()"
   ]
  },
  {
   "cell_type": "code",
   "execution_count": 7,
   "metadata": {},
   "outputs": [],
   "source": [
    "# normalize the weights of links\n",
    "weights = nx.get_edge_attributes(compute_graph, 'weight')\n",
    "max_weight = max(weights.values())\n",
    "for e in compute_graph.edges():\n",
    "    compute_graph[e[0]][e[1]]['weight'] = compute_graph[e[0]][e[1]]['weight'] / max_weight\n",
    "\n",
    "# normalize the weights of similarity scores\n",
    "max_score = max(similar_scores)\n",
    "similar_scores = [s / max_score for s in similar_scores]"
   ]
  },
  {
   "cell_type": "code",
   "execution_count": 8,
   "metadata": {},
   "outputs": [],
   "source": [
    "import uuid\n",
    "agent_id = uuid.uuid4().hex\n",
    "compute_graph.add_node(\n",
    "    agent_id, \n",
    "    type='Agent', \n",
    "    period = 1, \n",
    "    properties=example_input,\n",
    "    label='Agent'\n",
    ")\n",
    "for node,scocre in zip(similar_nodes,similar_scores):\n",
    "    compute_graph.add_edge(agent_id, node, weight=scocre, type='similar_to',label='similar_to') "
   ]
  },
  {
   "cell_type": "code",
   "execution_count": 9,
   "metadata": {},
   "outputs": [
    {
     "data": {
      "text/plain": [
       "NodeView((681, 457, 464, 12, 573, 469, 217, 539, 154, 373, 683, 575, 686, 49, 698, 700, 702, 705, 709, 714, 725, 756, 768, 772, 603, 61, 964, 811, 963, 970, 982, 994, 995, 1022, 1030, 662, 1035, 1037, 1050, 513, 1055, 1056, 181, 1079, 1085, 1091, 1092, 1097, 592, 226, 270, '075c8adfca3e41709a73d509fefa8114'))"
      ]
     },
     "execution_count": 9,
     "metadata": {},
     "output_type": "execute_result"
    }
   ],
   "source": [
    "compute_graph.nodes()"
   ]
  },
  {
   "cell_type": "markdown",
   "metadata": {},
   "source": [
    "# Visualization"
   ]
  },
  {
   "cell_type": "code",
   "execution_count": 10,
   "metadata": {},
   "outputs": [],
   "source": [
    "import pyvis.network as net\n",
    "\n",
    "nx_graph = compute_graph.copy()\n",
    "nt = net.Network(\"800px\", \"1200px\")\n",
    "nt.from_nx(nx_graph=nx_graph)\n",
    "nt.write_html(\"example.html\")"
   ]
  },
  {
   "cell_type": "markdown",
   "metadata": {},
   "source": [
    "# Link Prediction"
   ]
  },
  {
   "cell_type": "code",
   "execution_count": 31,
   "metadata": {},
   "outputs": [],
   "source": [
    "import numpy as np\n",
    "def softmax(x):\n",
    "    e_x = np.exp(x - np.max(x))\n",
    "    return e_x / e_x.sum()\n",
    "\n",
    "\n",
    "def cal_weighted_jaccard_coeff(G,agent,choice):\n",
    "    G_ = G.to_undirected()\n",
    "    common_neighbors = list(nx.common_neighbors(G_,agent,choice))\n",
    "    total_neighbors = len(list(nx.neighbors(G_,agent)))\n",
    "    weight_sum = 0\n",
    "    for n in common_neighbors:\n",
    "        edge_ap = G_.edges[agent,n]['weight']\n",
    "        edge_pc = G_.edges[n,choice]['weight']\n",
    "        weight_sum += (edge_ap+edge_pc)/2\n",
    "    return weight_sum/total_neighbors\n",
    "\n",
    "def get_recommendation(G,choice_type='Actors',top_k=3):\n",
    "    agents = [n for n,d in G.nodes(data=True) if d['type'] == 'Agent']\n",
    "    choices = [n for n,d in G.nodes(data=True) if d['type'] == choice_type]\n",
    "    recommendation = {}\n",
    "    for choice in choices:\n",
    "        recommendation[choice] = cal_weighted_jaccard_coeff(G,agents[0],choice)\n",
    "    max_weight = max(recommendation.values())\n",
    "    recommendation = {k: v/max_weight for k, v in sorted(recommendation.items(), key=lambda item: item[1],reverse=True)}\n",
    "    choices = list(recommendation.keys())\n",
    "    choices = [G.nodes[n] for n in choices]\n",
    "    probabilities = softmax(list(recommendation.values())[:top_k]).tolist()\n",
    "    return choices,probabilities"
   ]
  },
  {
   "cell_type": "code",
   "execution_count": 32,
   "metadata": {},
   "outputs": [],
   "source": [
    "choices,recommendation = get_recommendation(compute_graph,choice_type='Media Content')"
   ]
  },
  {
   "cell_type": "code",
   "execution_count": 33,
   "metadata": {},
   "outputs": [
    {
     "data": {
      "text/plain": [
       "[0.36624763428173485, 0.31687618285913255, 0.31687618285913255]"
      ]
     },
     "execution_count": 33,
     "metadata": {},
     "output_type": "execute_result"
    }
   ],
   "source": [
    "recommendation"
   ]
  }
 ],
 "metadata": {
  "kernelspec": {
   "display_name": "pytorch",
   "language": "python",
   "name": "python3"
  },
  "language_info": {
   "codemirror_mode": {
    "name": "ipython",
    "version": 3
   },
   "file_extension": ".py",
   "mimetype": "text/x-python",
   "name": "python",
   "nbconvert_exporter": "python",
   "pygments_lexer": "ipython3",
   "version": "3.8.18"
  }
 },
 "nbformat": 4,
 "nbformat_minor": 2
}
