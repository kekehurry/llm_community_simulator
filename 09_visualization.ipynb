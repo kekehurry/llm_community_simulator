{
 "cells": [
  {
   "cell_type": "code",
   "execution_count": 13,
   "id": "020fadaa-3f07-4ec3-bd33-b6e715699188",
   "metadata": {
    "editable": true,
    "slideshow": {
     "slide_type": ""
    },
    "tags": []
   },
   "outputs": [
    {
     "data": {
      "text/html": [
       "\n",
       "<iframe src=\"sim_data_2/sim_data_2_1.html\" width=\"800\" height=\"600\" style=\"border:none;\"></iframe>\n"
      ],
      "text/plain": [
       "<IPython.core.display.HTML object>"
      ]
     },
     "metadata": {},
     "output_type": "display_data"
    }
   ],
   "source": [
    "from IPython.core.display import HTML\n",
    "\n",
    "iframe_code = \"\"\"\n",
    "<iframe src=\"sim_data_2/sim_data_2_1.html\" width=\"800\" height=\"600\" style=\"border:none;\"></iframe>\n",
    "\"\"\"\n",
    "\n",
    "display(HTML(iframe_code))\n"
   ]
  },
  {
   "cell_type": "code",
   "execution_count": 14,
   "id": "67ddcec6-79f3-44cd-bcd3-e3091cdfec1b",
   "metadata": {},
   "outputs": [
    {
     "data": {
      "text/html": [
       "\n",
       "<iframe src=\"visualize.html\" width=\"800\" height=\"600\" style=\"border:none;\"></iframe>\n"
      ],
      "text/plain": [
       "<IPython.core.display.HTML object>"
      ]
     },
     "metadata": {},
     "output_type": "display_data"
    }
   ],
   "source": [
    "from IPython.core.display import HTML\n",
    "\n",
    "iframe_code = \"\"\"\n",
    "<iframe src=\"visualize.html\" width=\"800\" height=\"600\" style=\"border:none;\"></iframe>\n",
    "\"\"\"\n",
    "\n",
    "display(HTML(iframe_code))\n"
   ]
  },
  {
   "cell_type": "code",
   "execution_count": null,
   "id": "f416ff40-4a05-4abc-8bdc-9f980811bd5e",
   "metadata": {},
   "outputs": [],
   "source": []
  }
 ],
 "metadata": {
  "kernelspec": {
   "display_name": "Python 3 (ipykernel)",
   "language": "python",
   "name": "python3"
  },
  "language_info": {
   "codemirror_mode": {
    "name": "ipython",
    "version": 3
   },
   "file_extension": ".py",
   "mimetype": "text/x-python",
   "name": "python",
   "nbconvert_exporter": "python",
   "pygments_lexer": "ipython3",
   "version": "3.11.9"
  }
 },
 "nbformat": 4,
 "nbformat_minor": 5
}
