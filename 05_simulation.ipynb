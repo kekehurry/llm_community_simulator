{
 "cells": [
  {
   "cell_type": "markdown",
   "metadata": {},
   "source": [
    "# Simulation Behaviors with LLM based on the context"
   ]
  },
  {
   "cell_type": "code",
   "execution_count": 1,
   "metadata": {},
   "outputs": [],
   "source": [
    "from langchain_core.output_parsers import StrOutputParser\n",
    "from langchain_core.runnables import RunnablePassthrough\n",
    "from langchain_core.prompts import ChatPromptTemplate\n",
    "from langchain_community.chat_models import ChatOllama\n",
    "import re\n",
    "import json"
   ]
  },
  {
   "cell_type": "code",
   "execution_count": 2,
   "metadata": {},
   "outputs": [],
   "source": [
    "chat_model = ChatOllama(model='phi3:instruct')"
   ]
  },
  {
   "cell_type": "code",
   "execution_count": 3,
   "metadata": {},
   "outputs": [],
   "source": [
    "class AnswerOutputParser(StrOutputParser):\n",
    "    def parse(self, text: str) -> str:\n",
    "        choice_pattern = re.compile(r'```(?:json)?(.*?)```', re.DOTALL)\n",
    "        choice_match = choice_pattern.search(text)\n",
    "        choice = \"\"\n",
    "        try:\n",
    "            choice = choice_match.group(1)\n",
    "            return json.loads(choice.strip()), text.strip()\n",
    "        except Exception as e:\n",
    "            return {},text.strip()"
   ]
  },
  {
   "cell_type": "code",
   "execution_count": 4,
   "metadata": {},
   "outputs": [],
   "source": [
    "\n",
    "\n",
    "def get_llm_choice(node_type, profile, top_k, old_context, new_options):\n",
    "    system_propmt = '''\n",
    "    You are an expert analyst of social networks, given the context of connect propobilities with the similar node in the past, evaluate the possibilities of new options.\n",
    "    '''\n",
    "    user_prompt = '''\n",
    "    Given a {node_type} Node with profile:\n",
    "    {profile}\n",
    "    And the context of {top_k} options and their probabilities a similar node connected in the past:\n",
    "    {old_context}\n",
    "    The new options are:\n",
    "    {new_options}\n",
    "    Is there any possibility for each new option the given node would connect to? \n",
    "    Note:\n",
    "    - Answer with a list of 'Yes' or 'No' for each new option in json forma, using the index as the key for each option.\n",
    "    - Wrap the final answer in triple backticks (```json ```) to indicate a json block.\n",
    "    - Follw with the reasons for your choice after the json block.\n",
    "    Answer Format Example:\n",
    "    ```json\n",
    "    {{\n",
    "        \"0\": \"Yes\",\n",
    "        \"1\": \"No\"\n",
    "    }}\n",
    "    [Reasons for the choices]\n",
    "    ```\n",
    "    '''\n",
    "\n",
    "    prompt = ChatPromptTemplate.from_messages(\n",
    "        [\n",
    "            (\"system\",system_propmt),\n",
    "            (\"human\", user_prompt),\n",
    "        ]\n",
    "    )\n",
    "    choice_response = (\n",
    "        RunnablePassthrough.assign(\n",
    "            node_type=lambda _: node_type,\n",
    "            profile=lambda _: profile,\n",
    "            top_k=lambda _: top_k,\n",
    "            old_context=lambda _: old_context,\n",
    "            new_options=lambda _: new_options\n",
    "        )\n",
    "        | prompt\n",
    "        | chat_model.bind()\n",
    "        | AnswerOutputParser()\n",
    "    )\n",
    "    choice, response = choice_response.invoke({\n",
    "        \"node_type\": node_type,\n",
    "        \"profile\": profile,\n",
    "        \"top_k\": top_k,\n",
    "        \"old_context\": old_context,\n",
    "        \"new_context\": new_options\n",
    "    })\n",
    "    return choice, response\n",
    "\n"
   ]
  },
  {
   "cell_type": "markdown",
   "metadata": {},
   "source": [
    "# One Step Simulation"
   ]
  },
  {
   "cell_type": "markdown",
   "metadata": {},
   "source": [
    "Actors ---> Actors \n",
    "\n",
    "When a new person come to the community who are more likely to connect with him?"
   ]
  },
  {
   "cell_type": "code",
   "execution_count": 5,
   "metadata": {},
   "outputs": [],
   "source": [
    "from choice_model import ChoiceModel\n",
    "import networkx as nx\n",
    "model = ChoiceModel()"
   ]
  },
  {
   "cell_type": "code",
   "execution_count": 6,
   "metadata": {},
   "outputs": [],
   "source": [
    "new_profile = {\n",
    "'age': '18-35',\n",
    "'gender': 'Female',\n",
    "'marrige': 'Yes',\n",
    "'withkids': 'No',\n",
    "'student': 'Yes',\n",
    "'workstatue': 'Freelancer',\n",
    "'residentinneighbor': 'No',\n",
    "'educationlevel': 'Undergraduate'\n",
    "}\n",
    "choices,probabilities = model.link_prediction(profile=new_profile, k1=10, k2=5, node_type='Actors', choice_type='Actors', top_k=3)\n",
    "options = [ c['properties'] for c in choices]\n",
    "options_probabilities = [ p for p in probabilities]\n",
    "old_context = {f\"option:{o}, probability:{p}\" for o,p in zip(options,options_probabilities)}"
   ]
  },
  {
   "cell_type": "code",
   "execution_count": 7,
   "metadata": {},
   "outputs": [],
   "source": [
    "\n",
    "new_options = [{'age': '80', 'gender': 'Female', 'marrige': 'No', 'withkids': 'No', 'student': 'No', 'workstatue': 'Employed', 'residentinneighbor': 'Yes', 'educationlevel': 'Highschool'},{'age': '18', 'gender': 'Male', 'marrige': 'Yes', 'withkids': 'No', 'student': 'No', 'workstatue': 'Freelancer', 'residentinneighbor': 'No', 'educationlevel': 'Undergraduate'}]"
   ]
  },
  {
   "cell_type": "code",
   "execution_count": 8,
   "metadata": {},
   "outputs": [],
   "source": [
    "choice, response = get_llm_choice(node_type='Actors', profile=new_profile, top_k=3, old_context=old_context, new_options=new_options)"
   ]
  },
  {
   "cell_type": "code",
   "execution_count": 9,
   "metadata": {},
   "outputs": [
    {
     "name": "stdout",
     "output_type": "stream",
     "text": [
      "{'0': 'No', '1': 'Yes'}\n"
     ]
    }
   ],
   "source": [
    "print(choice)"
   ]
  },
  {
   "cell_type": "code",
   "execution_count": 10,
   "metadata": {},
   "outputs": [
    {
     "name": "stdout",
     "output_type": "stream",
     "text": [
      "```json\n",
      "{\n",
      "    \"0\": \"No\",\n",
      "    \"1\": \"Yes\"\n",
      "}\n",
      "```\n",
      "Explanation: Option 0 is less likely to connect because it represents an age significantly different from the original node, which could indicate a very distinct lifestyle and opportunities that might not align well with those of similar past connections. Furthermore, being '80' would be quite unusual in this context compared to other nodes listed as having individuals within their 20s or early 30s age range.\n",
      "\n",
      "Option 1 is more probable since the given profile closely matches one of the previously connected options (option:{'age': '18-35', 'gender': 'Female', 'marrige': 'Yes', 'withkids': 'No', 'student': 'Yes', 'workstatue': 'Freelancer', 'residentinneighbor': 'No', 'educationlevel': 'Undergraduate'}, probability:0.3385717503580057). The age, gender, marital status, and education level are aligned with the original node's profile which makes it a reasonable match based on past connections that have similar attributes.\n"
     ]
    }
   ],
   "source": [
    "print(response)"
   ]
  },
  {
   "cell_type": "markdown",
   "metadata": {},
   "source": [
    "Event ---> Actors\n",
    "\n",
    "When a new Event happend who are likely to be attracted to the event"
   ]
  },
  {
   "cell_type": "code",
   "execution_count": 11,
   "metadata": {},
   "outputs": [],
   "source": [
    "period = 1\n",
    "new_event = {'eventtopic': 'Environment And Sustainability'}\n",
    "model.set_period(period)\n",
    "choices,probabilities = model.link_prediction(profile=new_event, k1=10, k2=5, node_type='Event', choice_type='Actors',top_k=3)\n",
    "options = [ c['properties'] for c in choices]\n",
    "options_probabilities = [ p for p in probabilities]\n",
    "old_context = {f\"option:{o}, probability:{p}\" for o,p in zip(options,options_probabilities)}\n"
   ]
  },
  {
   "cell_type": "code",
   "execution_count": 12,
   "metadata": {},
   "outputs": [],
   "source": [
    "new_options = [{'age': '80', 'gender': 'Female', 'marrige': 'No', 'withkids': 'No', 'student': 'No', 'workstatue': 'Employed', 'residentinneighbor': 'Yes', 'educationlevel': 'Highschool'},{'age': '18', 'gender': 'Male', 'marrige': 'Yes', 'withkids': 'No', 'student': 'No', 'workstatue': 'Freelancer', 'residentinneighbor': 'No', 'educationlevel': 'Undergraduate'}]"
   ]
  },
  {
   "cell_type": "code",
   "execution_count": 13,
   "metadata": {},
   "outputs": [],
   "source": [
    "choice, response = get_llm_choice(node_type='Event', profile=new_profile, top_k=3, old_context=old_context, new_options=new_options)"
   ]
  },
  {
   "cell_type": "code",
   "execution_count": 14,
   "metadata": {},
   "outputs": [
    {
     "data": {
      "text/plain": [
       "{'0': 'No', '1': 'Yes'}"
      ]
     },
     "execution_count": 14,
     "metadata": {},
     "output_type": "execute_result"
    }
   ],
   "source": [
    "choice"
   ]
  },
  {
   "cell_type": "code",
   "execution_count": 15,
   "metadata": {},
   "outputs": [
    {
     "name": "stdout",
     "output_type": "stream",
     "text": [
      "```json\n",
      "{\n",
      "    \"0\": \"No\",\n",
      "    \"1\": \"Yes\"\n",
      "}\n",
      "```\n",
      "The first new option has a very low likelihood of connecting based on age, gender, and marital status differences. The 80-year-old female with no children is less likely to connect considering the typical demographics represented in social networks where younger individuals tend to be more active participants due to their lifestyle choices and availability (e.g., students or working professionals).\n",
      "\n",
      "The second option shows a high potential for connection since it matches several key attributes such as age, education level, work status, marital status, presence of children which is similar to the original profile but differs only in gender that might not significantly impact social network connections based on shared interests and values. Therefore: \n",
      "- \"0\": The significant difference in age reduces connectivity potential since there's less commonality for interaction between such disparate ages within typical online communities or event networks where younger individuals tend to dominate due to lifestyle choices, availability (e.g., students or working professionals), and shared experiences with the original profile which is mostly made up of a young adult demographic that's more likely to engage in social connections on these platforms.\n",
      "- \"1\": The gender difference might not be as impactful due to broader acceptance within various online communities, though it still could lead some differences in shared interests and lifestyle choices given the original profile is a female which tends to interact with similar demographics more frequently (e.g., students or working professionals) who often form close connections on social networks for academic support or career advancement discussions. However, since this option also matches closely regarding age, work status, and educational background of our target profile person it stands a good chance to connect with similar nodes based upon shared experiences within these contexts which can facilitate strong communal bonds leading to potential connections.\n",
      "- Reasons for the choices: The primary reasons are related to demographic matching in terms of age range (35 vs 80), gender, and other social lifestyle factors like marital status with kids or students that might influence shared experiences within a community setting on these platforms where interactions typically occur based on common interests.\n",
      "    ```Reasons for the choices```\n",
      "In general: The likelihood of connections in such networks depends greatly upon demographic similarities and alignment around life stages, professional situations, educational backgrounds, familial statuses (e.g., marital/kid-related issues), as well as lifestyle preferences that often lead to the establishment or strengthening of communal bonds within these platforms where interactions are more common amongst individuals with shared experiences and interests due to similar circumstances in life such age groups, gender roles, educational backgrounds etc. Consequently, this affects connectivity potential significantly by influencing how likely people might be to form connections based on relatable or empathetic grounds which then facilitates the creation of social networks that foster communal bonds leading individuals with similar profiles and shared experiences into forming strong relationships within these platforms where interactions are more common amongst them. Conversely, differences in demographics can lead some dissimilarities but might not necessarily exclude potential connections if other factors align closely enough to facilitate a connection based upon relatable or empathetic grounds which then fosters the creation of social networks that promote communal bonds leading people with similar profiles and shared experiences into forming strong relationships within these platforms where interactions are more common amongst them. Consequently, this affects connectivity potential significantly by influencing how likely people might be to form connections based on relatable or empathetic grounds which then facilitates the creation of social networks that foster communal bonds leading individuals with similar profiles and shared experiences into forming strong relationships within these platforms where interactions are more common amongst them. Conversely, differences in demographics can lead some dissimilarities but might not necessarily exclude potential connections if other factors align closely enough to facilitate a connection based upon relatable or empathetic grounds which then fosters the creation of social networks that promote communal bonds leading people with similar profiles and shared experiences into forming strong relationships within these platforms where interactions are more common amongst them.\n"
     ]
    }
   ],
   "source": [
    "print(response)"
   ]
  },
  {
   "cell_type": "markdown",
   "metadata": {},
   "source": [
    "Actors ---> Event\n",
    "\n",
    "what Event whould a person like comparing to other events"
   ]
  },
  {
   "cell_type": "code",
   "execution_count": 16,
   "metadata": {},
   "outputs": [],
   "source": [
    "new_profile = {\n",
    "'age': '18-35',\n",
    "'gender': 'Female',\n",
    "'marrige': 'Yes',\n",
    "'withkids': 'No',\n",
    "'student': 'Yes',\n",
    "'workstatue': 'Freelancer',\n",
    "'residentinneighbor': 'No',\n",
    "'educationlevel': 'Undergraduate'\n",
    "}\n",
    "choices,probabilities = model.link_prediction(profile=new_profile, k1=10, k2=5, node_type='Actors', choice_type='Event', top_k=3)\n",
    "options = [ c['properties'] for c in choices]\n",
    "options_probabilities = [ p for p in probabilities]\n",
    "old_context = {f\"option:{o}, probability:{p}\" for o,p in zip(options,options_probabilities)}"
   ]
  },
  {
   "cell_type": "code",
   "execution_count": 18,
   "metadata": {},
   "outputs": [],
   "source": [
    "new_options = [{'eventtopic': 'Culture And Arts'},{'eventtopic': 'Environment And Sustainability'}]"
   ]
  },
  {
   "cell_type": "code",
   "execution_count": 19,
   "metadata": {},
   "outputs": [],
   "source": [
    "choice, response = get_llm_choice(node_type='Event', profile=new_profile, top_k=3, old_context=old_context, new_options=new_options)"
   ]
  },
  {
   "cell_type": "code",
   "execution_count": 20,
   "metadata": {},
   "outputs": [
    {
     "name": "stdout",
     "output_type": "stream",
     "text": [
      "{'0': 'Yes', '1': 'No'}\n"
     ]
    }
   ],
   "source": [
    "print(choice)"
   ]
  },
  {
   "cell_type": "code",
   "execution_count": 21,
   "metadata": {},
   "outputs": [
    {
     "name": "stdout",
     "output_type": "stream",
     "text": [
      "```json\n",
      "{\n",
      "        \"0\": \"Yes\",\n",
      "        \"1\": \"No\"\n",
      "}\n",
      "```\n",
      "Answer: The given profile suggests that this user is likely interested in 'Culture And Arts' due to her being a student and showing interest in cultural activities. While it does not directly indicate an interest in 'Environment And Sustainability', the fact she has no children could imply more freedom or time for environmental causes, though indirectly suggesting such topics might have less connection than with culture-related events specifically designed for students like her who are likely to be exposed to various cultural activities. Nonetheless, since there is a direct past connection already established and given that 'Environment And Sustainability' isn’t in the list of previous options connected but still holds relevance due to broader societal trends (even if not directly indicated by this profile), it could be plausible for her to connect with such events, albeit less likely than culture-related ones. Hence 'Yes' is given cautiously here as a possibility and the answer may vary depending on additional data about user interests that aren’t available in this scenario.\n",
      "```json\n",
      "The profile indicates an interest in cultural activities due to being a student who has previously shown such inclinations based on past connections, making it more probable for her to connect with 'Culture And Arts'. However, the connection is not guaranteed but inferred from related interests and contexts where young adult females might be engaged. The answer leans towards this option as more likely without concrete evidence supporting interest in 'Environment And Sustainability', though societal trends could sway such an association to some extent outside of profile specificity.\n",
      "```\n"
     ]
    }
   ],
   "source": [
    "print(response)"
   ]
  }
 ],
 "metadata": {
  "kernelspec": {
   "display_name": "pytorch",
   "language": "python",
   "name": "python3"
  },
  "language_info": {
   "codemirror_mode": {
    "name": "ipython",
    "version": 3
   },
   "file_extension": ".py",
   "mimetype": "text/x-python",
   "name": "python",
   "nbconvert_exporter": "python",
   "pygments_lexer": "ipython3",
   "version": "3.8.18"
  }
 },
 "nbformat": 4,
 "nbformat_minor": 2
}
