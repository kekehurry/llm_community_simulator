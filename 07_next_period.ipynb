{
 "cells": [
  {
   "cell_type": "code",
   "execution_count": 1,
   "metadata": {},
   "outputs": [],
   "source": [
    "from choice_model import ChoiceModel\n",
    "model = ChoiceModel()\n",
    "prev_period_file = 'new_graph/new_graph_0.pkl'\n",
    "new_model = ChoiceModel(graph_path=prev_period_file) \n",
    "period = 1"
   ]
  },
  {
   "cell_type": "markdown",
   "metadata": {},
   "source": [
    "# Overview of previous period"
   ]
  },
  {
   "cell_type": "code",
   "execution_count": 2,
   "metadata": {},
   "outputs": [
    {
     "name": "stdout",
     "output_type": "stream",
     "text": [
      "Old_PPI: 0.3242945775964644  PPI:  0.31012110726643594\n",
      "Old_CVI: 3.30188679245283  CVI:  2.843137254901961\n",
      "Old_DCI: 0.02857142857142857 DCI:  0.0\n"
     ]
    }
   ],
   "source": [
    "model.roll_back(period-1)\n",
    "Old_PPI, Old_CVI, Old_DCI = model.evaluate()\n",
    "PPI, CVI, DCI = new_model.evaluate()\n",
    "print(\"Old_PPI:\",Old_PPI,\" PPI: \", PPI)\n",
    "print(\"Old_CVI:\",Old_CVI,\" CVI: \", CVI)\n",
    "print(\"Old_DCI:\",Old_DCI,\"DCI: \", DCI)"
   ]
  },
  {
   "cell_type": "markdown",
   "metadata": {},
   "source": [
    "# Simulate Period"
   ]
  },
  {
   "cell_type": "code",
   "execution_count": 3,
   "metadata": {},
   "outputs": [
    {
     "name": "stdout",
     "output_type": "stream",
     "text": [
      "period:  1\n",
      "number of nodes:  75\n",
      "number of actors:  71\n",
      "number of other nodes:  41\n"
     ]
    }
   ],
   "source": [
    "# get all nodes in certain period \n",
    "graph = model.get_period(period)\n",
    "new_nodes = [n for n in graph.nodes if n not in list(new_model.graph.nodes)]\n",
    "new_nodes = [n for n in new_nodes if graph.nodes[n]['type'] != 'Long-term Project']\n",
    "actor_ndoes = [n for n in graph.nodes if graph.nodes[n]['type'] == 'Actors']\n",
    "other_nodes = [n for n in graph.nodes if graph.nodes[n]['type'] != 'Actors']\n",
    "print(\"period: \",period)\n",
    "print(\"number of nodes: \",len(new_nodes))\n",
    "print(\"number of actors: \", len(actor_ndoes))\n",
    "print(\"number of other nodes: \",len(other_nodes))"
   ]
  },
  {
   "cell_type": "code",
   "execution_count": 4,
   "metadata": {},
   "outputs": [],
   "source": [
    "test_graph = new_model.graph.copy()\n",
    "## for a totally new environemnt create an empty graph\n",
    "# import networkx as nx\n",
    "# test_graph = nx.DiGraph()"
   ]
  },
  {
   "cell_type": "code",
   "execution_count": 5,
   "metadata": {},
   "outputs": [
    {
     "name": "stderr",
     "output_type": "stream",
     "text": [
      "  1%|▏         | 1/75 [00:33<41:43, 33.83s/it]"
     ]
    },
    {
     "name": "stdout",
     "output_type": "stream",
     "text": [
      "add edge 300 1029\n",
      "add edge 578 1029\n",
      "add edge 282 1029\n",
      "add edge 522 1029\n",
      "add edge 256 1029\n"
     ]
    },
    {
     "name": "stderr",
     "output_type": "stream",
     "text": [
      "  3%|▎         | 2/75 [01:06<40:31, 33.31s/it]"
     ]
    },
    {
     "name": "stdout",
     "output_type": "stream",
     "text": [
      "add edge 177 1030\n",
      "add edge 300 1030\n",
      "add edge 193 1030\n",
      "add edge 578 1030\n",
      "add edge 522 1030\n",
      "add edge 256 1030\n",
      "add edge 282 1030\n",
      "add edge 118 1030\n"
     ]
    },
    {
     "name": "stderr",
     "output_type": "stream",
     "text": [
      "  4%|▍         | 3/75 [01:19<28:29, 23.75s/it]"
     ]
    },
    {
     "name": "stdout",
     "output_type": "stream",
     "text": [
      "add edge 275 11\n",
      "add edge 809 11\n",
      "add edge 522 11\n",
      "add edge 256 11\n",
      "add edge 702 11\n",
      "add edge 282 11\n"
     ]
    },
    {
     "name": "stderr",
     "output_type": "stream",
     "text": [
      "  5%|▌         | 4/75 [01:26<20:33, 17.37s/it]"
     ]
    },
    {
     "name": "stdout",
     "output_type": "stream",
     "text": [
      "add edge 275 12\n",
      "add edge 522 12\n",
      "add edge 256 12\n",
      "add edge 282 12\n"
     ]
    },
    {
     "name": "stderr",
     "output_type": "stream",
     "text": [
      "  7%|▋         | 5/75 [01:40<18:36, 15.95s/it]"
     ]
    },
    {
     "name": "stdout",
     "output_type": "stream",
     "text": [
      "add edge 522 526\n",
      "add edge 282 526\n",
      "add edge 300 526\n",
      "add edge 256 526\n",
      "add edge 559 526\n",
      "add edge 515 526\n",
      "add edge 833 526\n",
      "add edge 809 526\n"
     ]
    },
    {
     "name": "stderr",
     "output_type": "stream",
     "text": [
      "  8%|▊         | 6/75 [02:30<31:50, 27.69s/it]"
     ]
    },
    {
     "name": "stdout",
     "output_type": "stream",
     "text": [
      "add edge 282 1039\n",
      "add edge 256 1039\n",
      "add edge 118 1039\n",
      "add edge 515 1039\n",
      "add edge 559 1039\n",
      "add edge 177 1039\n",
      "add edge 522 1039\n"
     ]
    },
    {
     "name": "stderr",
     "output_type": "stream",
     "text": [
      "  9%|▉         | 7/75 [02:52<29:16, 25.83s/it]"
     ]
    },
    {
     "name": "stdout",
     "output_type": "stream",
     "text": [
      "add edge 300 273\n",
      "add edge 702 273\n",
      "add edge 558 273\n",
      "add edge 256 273\n"
     ]
    },
    {
     "name": "stderr",
     "output_type": "stream",
     "text": [
      " 11%|█         | 8/75 [03:06<24:27, 21.90s/it]"
     ]
    },
    {
     "name": "stdout",
     "output_type": "stream",
     "text": [
      "add edge 558 535\n",
      "add edge 522 535\n",
      "add edge 256 535\n",
      "add edge 395 535\n",
      "add edge 300 535\n",
      "add edge 702 535\n",
      "add edge 282 535\n"
     ]
    },
    {
     "name": "stderr",
     "output_type": "stream",
     "text": [
      " 12%|█▏        | 9/75 [03:21<21:57, 19.97s/it]"
     ]
    },
    {
     "name": "stdout",
     "output_type": "stream",
     "text": [
      "add edge 282 281\n",
      "add edge 515 281\n",
      "add edge 467 281\n",
      "add edge 810 281\n",
      "add edge 226 281\n",
      "add edge 300 281\n",
      "add edge 558 281\n",
      "add edge 118 281\n"
     ]
    },
    {
     "name": "stderr",
     "output_type": "stream",
     "text": [
      " 13%|█▎        | 10/75 [03:36<19:55, 18.39s/it]"
     ]
    },
    {
     "name": "stdout",
     "output_type": "stream",
     "text": [
      "'answer'\n"
     ]
    },
    {
     "name": "stderr",
     "output_type": "stream",
     "text": [
      " 15%|█▍        | 11/75 [03:48<17:24, 16.32s/it]"
     ]
    },
    {
     "name": "stdout",
     "output_type": "stream",
     "text": [
      "add edge 558 542\n",
      "add edge 282 542\n",
      "add edge 300 542\n",
      "add edge 395 542\n",
      "add edge 809 542\n",
      "add edge 702 542\n"
     ]
    },
    {
     "name": "stderr",
     "output_type": "stream",
     "text": [
      " 16%|█▌        | 12/75 [04:00<15:41, 14.94s/it]"
     ]
    },
    {
     "name": "stdout",
     "output_type": "stream",
     "text": [
      "add edge 282 543\n",
      "add edge 300 543\n",
      "add edge 256 543\n",
      "add edge 702 543\n"
     ]
    },
    {
     "name": "stderr",
     "output_type": "stream",
     "text": [
      " 17%|█▋        | 13/75 [04:15<15:39, 15.16s/it]"
     ]
    },
    {
     "name": "stdout",
     "output_type": "stream",
     "text": [
      "add edge 282 464\n",
      "add edge 515 464\n",
      "add edge 256 464\n"
     ]
    },
    {
     "name": "stderr",
     "output_type": "stream",
     "text": [
      " 19%|█▊        | 14/75 [04:32<16:02, 15.77s/it]"
     ]
    },
    {
     "name": "stdout",
     "output_type": "stream",
     "text": [
      "add edge 522 562\n",
      "add edge 282 562\n",
      "add edge 300 562\n",
      "add edge 702 562\n",
      "add edge 559 562\n",
      "add edge 515 562\n",
      "add edge 833 562\n",
      "add edge 809 562\n"
     ]
    },
    {
     "name": "stderr",
     "output_type": "stream",
     "text": [
      " 20%|██        | 15/75 [04:57<18:23, 18.39s/it]"
     ]
    },
    {
     "name": "stdout",
     "output_type": "stream",
     "text": [
      "add edge 558 314\n",
      "add edge 833 314\n",
      "add edge 522 314\n",
      "add edge 118 314\n",
      "add edge 282 314\n",
      "add edge 177 314\n",
      "add edge 300 314\n",
      "add edge 395 314\n"
     ]
    },
    {
     "name": "stderr",
     "output_type": "stream",
     "text": [
      " 21%|██▏       | 16/75 [05:12<17:10, 17.46s/it]"
     ]
    },
    {
     "name": "stdout",
     "output_type": "stream",
     "text": [
      "'answer'\n"
     ]
    },
    {
     "name": "stderr",
     "output_type": "stream",
     "text": [
      " 23%|██▎       | 17/75 [05:37<18:52, 19.52s/it]"
     ]
    },
    {
     "name": "stdout",
     "output_type": "stream",
     "text": [
      "add edge 282 835\n",
      "add edge 300 835\n",
      "add edge 558 835\n",
      "add edge 522 835\n",
      "add edge 118 835\n",
      "add edge 177 835\n"
     ]
    },
    {
     "name": "stderr",
     "output_type": "stream",
     "text": [
      " 24%|██▍       | 18/75 [06:01<19:49, 20.87s/it]"
     ]
    },
    {
     "name": "stdout",
     "output_type": "stream",
     "text": [
      "add edge 522 580\n",
      "add edge 282 580\n",
      "add edge 300 580\n",
      "add edge 559 580\n",
      "add edge 515 580\n",
      "add edge 833 580\n",
      "add edge 809 580\n",
      "add edge 226 580\n",
      "add edge 656 580\n",
      "add edge 256 580\n"
     ]
    },
    {
     "name": "stderr",
     "output_type": "stream",
     "text": [
      " 25%|██▌       | 19/75 [06:28<21:11, 22.70s/it]"
     ]
    },
    {
     "name": "stdout",
     "output_type": "stream",
     "text": [
      "add edge 376 836\n",
      "add edge 323 836\n",
      "add edge 438 836\n",
      "add edge 461 836\n",
      "add edge 177 836\n",
      "add edge 256 836\n"
     ]
    },
    {
     "name": "stderr",
     "output_type": "stream",
     "text": [
      " 27%|██▋       | 20/75 [06:38<17:21, 18.93s/it]"
     ]
    },
    {
     "name": "stdout",
     "output_type": "stream",
     "text": [
      "'answer'\n"
     ]
    },
    {
     "name": "stderr",
     "output_type": "stream",
     "text": [
      " 28%|██▊       | 21/75 [07:05<19:10, 21.31s/it]"
     ]
    },
    {
     "name": "stdout",
     "output_type": "stream",
     "text": [
      "add edge 809 837\n",
      "add edge 376 837\n",
      "add edge 323 837\n",
      "add edge 461 837\n"
     ]
    },
    {
     "name": "stderr",
     "output_type": "stream",
     "text": [
      " 29%|██▉       | 22/75 [07:26<18:51, 21.36s/it]"
     ]
    },
    {
     "name": "stdout",
     "output_type": "stream",
     "text": [
      "add edge 256 333\n",
      "add edge 282 333\n",
      "add edge 275 333\n",
      "add edge 522 333\n",
      "add edge 118 333\n",
      "add edge 289 333\n"
     ]
    },
    {
     "name": "stderr",
     "output_type": "stream",
     "text": [
      " 31%|███       | 23/75 [07:38<16:05, 18.57s/it]"
     ]
    },
    {
     "name": "stdout",
     "output_type": "stream",
     "text": [
      "add edge 282 335\n",
      "add edge 558 335\n",
      "add edge 177 335\n",
      "add edge 522 335\n",
      "add edge 335 335\n",
      "add edge 833 335\n",
      "add edge 256 335\n"
     ]
    },
    {
     "name": "stderr",
     "output_type": "stream",
     "text": [
      " 32%|███▏      | 24/75 [07:57<15:52, 18.67s/it]"
     ]
    },
    {
     "name": "stdout",
     "output_type": "stream",
     "text": [
      "add edge 275 592\n",
      "add edge 809 592\n",
      "add edge 522 592\n",
      "add edge 256 592\n"
     ]
    },
    {
     "name": "stderr",
     "output_type": "stream",
     "text": [
      " 33%|███▎      | 25/75 [08:56<25:37, 30.75s/it]"
     ]
    },
    {
     "name": "stdout",
     "output_type": "stream",
     "text": [
      "add edge 461 348\n",
      "add edge 300 348\n",
      "add edge 282 348\n",
      "add edge 141 348\n",
      "add edge 118 348\n",
      "add edge 256 348\n",
      "add edge 522 348\n"
     ]
    },
    {
     "name": "stderr",
     "output_type": "stream",
     "text": [
      " 35%|███▍      | 26/75 [09:07<20:21, 24.92s/it]"
     ]
    },
    {
     "name": "stdout",
     "output_type": "stream",
     "text": [
      "'answer'\n"
     ]
    },
    {
     "name": "stderr",
     "output_type": "stream",
     "text": [
      " 36%|███▌      | 27/75 [09:33<20:07, 25.17s/it]"
     ]
    },
    {
     "name": "stdout",
     "output_type": "stream",
     "text": [
      "add edge 275 1130\n",
      "add edge 256 1130\n",
      "add edge 141 1130\n",
      "add edge 282 1130\n",
      "add edge 461 1130\n",
      "add edge 376 1130\n",
      "add edge 809 1130\n"
     ]
    },
    {
     "name": "stderr",
     "output_type": "stream",
     "text": [
      " 37%|███▋      | 28/75 [10:09<22:12, 28.35s/it]"
     ]
    },
    {
     "name": "stdout",
     "output_type": "stream",
     "text": [
      "add edge 515 620\n",
      "add edge 256 620\n",
      "add edge 522 620\n",
      "add edge 467 620\n"
     ]
    },
    {
     "name": "stderr",
     "output_type": "stream",
     "text": [
      " 39%|███▊      | 29/75 [10:33<20:54, 27.28s/it]"
     ]
    },
    {
     "name": "stdout",
     "output_type": "stream",
     "text": [
      "add edge 522 359\n",
      "add edge 282 359\n",
      "add edge 300 359\n",
      "add edge 256 359\n",
      "add edge 702 359\n",
      "add edge 833 359\n",
      "add edge 246 359\n"
     ]
    },
    {
     "name": "stderr",
     "output_type": "stream",
     "text": [
      " 40%|████      | 30/75 [10:54<18:57, 25.29s/it]"
     ]
    },
    {
     "name": "stdout",
     "output_type": "stream",
     "text": [
      "add edge 282 369\n",
      "add edge 256 369\n"
     ]
    },
    {
     "name": "stderr",
     "output_type": "stream",
     "text": [
      " 41%|████▏     | 31/75 [11:22<19:02, 25.96s/it]"
     ]
    },
    {
     "name": "stdout",
     "output_type": "stream",
     "text": [
      "add edge 282 631\n",
      "add edge 522 631\n",
      "add edge 300 631\n",
      "add edge 275 631\n",
      "add edge 809 631\n",
      "add edge 256 631\n",
      "add edge 515 631\n",
      "add edge 376 631\n",
      "add edge 289 631\n",
      "add edge 118 631\n"
     ]
    },
    {
     "name": "stderr",
     "output_type": "stream",
     "text": [
      " 43%|████▎     | 32/75 [11:38<16:34, 23.13s/it]"
     ]
    },
    {
     "name": "stdout",
     "output_type": "stream",
     "text": [
      "add edge 282 377\n",
      "add edge 226 377\n",
      "add edge 275 377\n",
      "add edge 522 377\n",
      "add edge 256 377\n",
      "add edge 118 377\n",
      "add edge 289 377\n"
     ]
    },
    {
     "name": "stderr",
     "output_type": "stream",
     "text": [
      " 44%|████▍     | 33/75 [11:53<14:29, 20.71s/it]"
     ]
    },
    {
     "name": "stdout",
     "output_type": "stream",
     "text": [
      "add edge 515 381\n",
      "add edge 810 381\n",
      "add edge 256 381\n",
      "add edge 522 381\n",
      "add edge 558 381\n",
      "add edge 702 381\n"
     ]
    },
    {
     "name": "stderr",
     "output_type": "stream",
     "text": [
      " 45%|████▌     | 34/75 [12:12<13:39, 19.98s/it]"
     ]
    },
    {
     "name": "stdout",
     "output_type": "stream",
     "text": [
      "add edge 300 639\n",
      "add edge 522 639\n",
      "add edge 289 639\n",
      "add edge 256 639\n",
      "add edge 282 639\n",
      "add edge 515 639\n",
      "add edge 376 639\n"
     ]
    },
    {
     "name": "stderr",
     "output_type": "stream",
     "text": [
      " 47%|████▋     | 35/75 [12:29<12:52, 19.31s/it]"
     ]
    },
    {
     "name": "stdout",
     "output_type": "stream",
     "text": [
      "add edge 300 129\n",
      "add edge 275 129\n",
      "add edge 809 129\n",
      "add edge 282 129\n",
      "add edge 256 129\n",
      "add edge 376 129\n",
      "add edge 522 129\n",
      "add edge 289 129\n"
     ]
    },
    {
     "name": "stderr",
     "output_type": "stream",
     "text": [
      " 48%|████▊     | 36/75 [12:47<12:16, 18.90s/it]"
     ]
    },
    {
     "name": "stdout",
     "output_type": "stream",
     "text": [
      "add edge 522 133\n",
      "add edge 300 133\n",
      "add edge 282 133\n",
      "add edge 256 133\n",
      "add edge 702 133\n",
      "add edge 559 133\n",
      "add edge 515 133\n",
      "add edge 833 133\n",
      "add edge 809 133\n",
      "add edge 246 133\n",
      "add edge 335 133\n",
      "add edge 656 133\n"
     ]
    },
    {
     "name": "stderr",
     "output_type": "stream",
     "text": [
      " 49%|████▉     | 37/75 [13:46<19:35, 30.94s/it]"
     ]
    },
    {
     "name": "stdout",
     "output_type": "stream",
     "text": [
      "'answer'\n"
     ]
    },
    {
     "name": "stderr",
     "output_type": "stream",
     "text": [
      " 51%|█████     | 38/75 [14:02<16:14, 26.35s/it]"
     ]
    },
    {
     "name": "stdout",
     "output_type": "stream",
     "text": [
      "add edge 461 660\n",
      "add edge 256 660\n",
      "add edge 300 660\n",
      "add edge 395 660\n",
      "add edge 333 660\n",
      "add edge 558 660\n"
     ]
    },
    {
     "name": "stderr",
     "output_type": "stream",
     "text": [
      " 52%|█████▏    | 39/75 [14:21<14:30, 24.17s/it]"
     ]
    },
    {
     "name": "stdout",
     "output_type": "stream",
     "text": [
      "add edge 300 159\n",
      "add edge 282 159\n",
      "add edge 289 159\n",
      "add edge 522 159\n",
      "add edge 256 159\n",
      "add edge 275 159\n",
      "add edge 809 159\n"
     ]
    },
    {
     "name": "stderr",
     "output_type": "stream",
     "text": [
      " 53%|█████▎    | 40/75 [14:34<12:07, 20.79s/it]"
     ]
    },
    {
     "name": "stdout",
     "output_type": "stream",
     "text": [
      "'answer'\n"
     ]
    },
    {
     "name": "stderr",
     "output_type": "stream",
     "text": [
      " 55%|█████▍    | 41/75 [15:00<12:37, 22.29s/it]"
     ]
    },
    {
     "name": "stdout",
     "output_type": "stream",
     "text": [
      "add edge 461 181\n",
      "add edge 300 181\n"
     ]
    },
    {
     "name": "stderr",
     "output_type": "stream",
     "text": [
      " 56%|█████▌    | 42/75 [15:13<10:49, 19.67s/it]"
     ]
    },
    {
     "name": "stdout",
     "output_type": "stream",
     "text": [
      "'answer'\n"
     ]
    },
    {
     "name": "stderr",
     "output_type": "stream",
     "text": [
      " 57%|█████▋    | 43/75 [15:37<11:06, 20.82s/it]"
     ]
    },
    {
     "name": "stdout",
     "output_type": "stream",
     "text": [
      "add edge 282 704\n",
      "add edge 700 704\n",
      "add edge 256 704\n",
      "add edge 522 704\n",
      "add edge 226 704\n",
      "add edge 300 704\n"
     ]
    },
    {
     "name": "stderr",
     "output_type": "stream",
     "text": [
      " 59%|█████▊    | 44/75 [15:49<09:27, 18.32s/it]"
     ]
    },
    {
     "name": "stdout",
     "output_type": "stream",
     "text": [
      "add edge 256 705\n",
      "add edge 515 705\n",
      "add edge 226 705\n",
      "add edge 335 705\n"
     ]
    },
    {
     "name": "stderr",
     "output_type": "stream",
     "text": [
      " 60%|██████    | 45/75 [16:17<10:36, 21.22s/it]"
     ]
    },
    {
     "name": "stdout",
     "output_type": "stream",
     "text": [
      "add edge 275 706\n",
      "add edge 438 706\n",
      "add edge 323 706\n",
      "add edge 611 706\n",
      "add edge 246 706\n",
      "add edge 256 706\n",
      "add edge 118 706\n",
      "add edge 522 706\n"
     ]
    },
    {
     "name": "stderr",
     "output_type": "stream",
     "text": [
      " 61%|██████▏   | 46/75 [17:38<18:53, 39.10s/it]"
     ]
    },
    {
     "name": "stdout",
     "output_type": "stream",
     "text": [
      "add edge 275 707\n",
      "add edge 335 707\n",
      "add edge 282 707\n",
      "add edge 118 707\n",
      "add edge 522 707\n"
     ]
    },
    {
     "name": "stderr",
     "output_type": "stream",
     "text": [
      " 63%|██████▎   | 47/75 [17:54<14:59, 32.14s/it]"
     ]
    },
    {
     "name": "stdout",
     "output_type": "stream",
     "text": [
      "add edge 461 708\n",
      "add edge 256 708\n",
      "add edge 395 708\n",
      "add edge 333 708\n",
      "add edge 702 708\n",
      "add edge 558 708\n"
     ]
    },
    {
     "name": "stderr",
     "output_type": "stream",
     "text": [
      " 64%|██████▍   | 48/75 [18:11<12:23, 27.53s/it]"
     ]
    },
    {
     "name": "stdout",
     "output_type": "stream",
     "text": [
      "'answer'\n"
     ]
    },
    {
     "name": "stderr",
     "output_type": "stream",
     "text": [
      " 65%|██████▌   | 49/75 [18:38<11:55, 27.54s/it]"
     ]
    },
    {
     "name": "stdout",
     "output_type": "stream",
     "text": [
      "add edge 256 710\n",
      "add edge 300 710\n",
      "add edge 282 710\n",
      "add edge 522 710\n",
      "add edge 810 710\n",
      "add edge 275 710\n",
      "add edge 809 710\n"
     ]
    },
    {
     "name": "stderr",
     "output_type": "stream",
     "text": [
      " 67%|██████▋   | 50/75 [19:36<15:15, 36.64s/it]"
     ]
    },
    {
     "name": "stdout",
     "output_type": "stream",
     "text": [
      "add edge 275 711\n",
      "add edge 256 711\n",
      "add edge 118 711\n"
     ]
    },
    {
     "name": "stderr",
     "output_type": "stream",
     "text": [
      " 68%|██████▊   | 51/75 [19:50<11:55, 29.82s/it]"
     ]
    },
    {
     "name": "stdout",
     "output_type": "stream",
     "text": [
      "add edge 282 713\n",
      "add edge 656 713\n",
      "add edge 395 713\n",
      "add edge 365 713\n",
      "add edge 515 713\n",
      "add edge 323 713\n",
      "add edge 522 713\n",
      "add edge 702 713\n",
      "add edge 810 713\n",
      "add edge 438 713\n",
      "add edge 118 713\n"
     ]
    },
    {
     "name": "stderr",
     "output_type": "stream",
     "text": [
      " 69%|██████▉   | 52/75 [20:14<10:45, 28.06s/it]"
     ]
    },
    {
     "name": "stdout",
     "output_type": "stream",
     "text": [
      "add edge 282 714\n",
      "add edge 300 714\n",
      "add edge 118 714\n"
     ]
    },
    {
     "name": "stderr",
     "output_type": "stream",
     "text": [
      " 71%|███████   | 53/75 [20:34<09:22, 25.57s/it]"
     ]
    },
    {
     "name": "stdout",
     "output_type": "stream",
     "text": [
      "'answer'\n"
     ]
    },
    {
     "name": "stderr",
     "output_type": "stream",
     "text": [
      " 72%|███████▏  | 54/75 [20:52<08:11, 23.40s/it]"
     ]
    },
    {
     "name": "stdout",
     "output_type": "stream",
     "text": [
      "add edge 275 716\n",
      "add edge 656 716\n",
      "add edge 365 716\n",
      "add edge 335 716\n",
      "add edge 810 716\n",
      "add edge 323 716\n",
      "add edge 611 716\n",
      "add edge 246 716\n",
      "add edge 282 716\n",
      "add edge 118 716\n",
      "add edge 522 716\n"
     ]
    },
    {
     "name": "stderr",
     "output_type": "stream",
     "text": [
      " 73%|███████▎  | 55/75 [21:25<08:45, 26.27s/it]"
     ]
    },
    {
     "name": "stdout",
     "output_type": "stream",
     "text": [
      "'answer'\n"
     ]
    },
    {
     "name": "stderr",
     "output_type": "stream",
     "text": [
      " 75%|███████▍  | 56/75 [22:05<09:36, 30.34s/it]"
     ]
    },
    {
     "name": "stdout",
     "output_type": "stream",
     "text": [
      "add edge 275 717\n",
      "add edge 335 717\n"
     ]
    },
    {
     "name": "stderr",
     "output_type": "stream",
     "text": [
      " 76%|███████▌  | 57/75 [22:26<08:18, 27.71s/it]"
     ]
    },
    {
     "name": "stdout",
     "output_type": "stream",
     "text": [
      "'answer'\n"
     ]
    },
    {
     "name": "stderr",
     "output_type": "stream",
     "text": [
      " 77%|███████▋  | 58/75 [22:38<06:28, 22.83s/it]"
     ]
    },
    {
     "name": "stdout",
     "output_type": "stream",
     "text": [
      "add edge 256 720\n",
      "add edge 515 720\n",
      "add edge 275 720\n",
      "add edge 809 720\n",
      "add edge 141 720\n",
      "add edge 118 720\n",
      "add edge 702 720\n",
      "add edge 282 720\n",
      "add edge 467 720\n"
     ]
    },
    {
     "name": "stderr",
     "output_type": "stream",
     "text": [
      " 79%|███████▊  | 59/75 [22:58<05:52, 22.04s/it]"
     ]
    },
    {
     "name": "stdout",
     "output_type": "stream",
     "text": [
      "add edge 256 721\n",
      "add edge 515 721\n",
      "add edge 282 721\n",
      "add edge 522 721\n",
      "add edge 810 721\n",
      "add edge 226 721\n",
      "add edge 300 721\n",
      "add edge 275 721\n"
     ]
    },
    {
     "name": "stderr",
     "output_type": "stream",
     "text": [
      " 80%|████████  | 60/75 [23:15<05:09, 20.63s/it]"
     ]
    },
    {
     "name": "stdout",
     "output_type": "stream",
     "text": [
      "add edge 256 722\n",
      "add edge 515 722\n",
      "add edge 300 722\n",
      "add edge 522 722\n",
      "add edge 810 722\n",
      "add edge 335 722\n",
      "add edge 323 722\n"
     ]
    },
    {
     "name": "stderr",
     "output_type": "stream",
     "text": [
      " 81%|████████▏ | 61/75 [23:31<04:26, 19.00s/it]"
     ]
    },
    {
     "name": "stdout",
     "output_type": "stream",
     "text": [
      "add edge 282 718\n",
      "add edge 256 718\n",
      "add edge 702 718\n",
      "add edge 118 718\n",
      "add edge 719 718\n"
     ]
    },
    {
     "name": "stderr",
     "output_type": "stream",
     "text": [
      " 83%|████████▎ | 62/75 [24:17<05:52, 27.09s/it]"
     ]
    },
    {
     "name": "stdout",
     "output_type": "stream",
     "text": [
      "add edge 256 724\n",
      "add edge 300 724\n",
      "add edge 809 724\n",
      "add edge 141 724\n",
      "add edge 118 724\n",
      "add edge 522 724\n"
     ]
    },
    {
     "name": "stderr",
     "output_type": "stream",
     "text": [
      " 84%|████████▍ | 63/75 [24:32<04:43, 23.64s/it]"
     ]
    },
    {
     "name": "stdout",
     "output_type": "stream",
     "text": [
      "add edge 282 723\n",
      "add edge 515 723\n",
      "add edge 522 723\n",
      "add edge 467 723\n",
      "add edge 226 723\n",
      "add edge 300 723\n",
      "add edge 376 723\n",
      "add edge 720 723\n"
     ]
    },
    {
     "name": "stderr",
     "output_type": "stream",
     "text": [
      " 85%|████████▌ | 64/75 [24:45<03:45, 20.48s/it]"
     ]
    },
    {
     "name": "stdout",
     "output_type": "stream",
     "text": [
      "add edge 256 726\n",
      "add edge 702 726\n",
      "add edge 282 726\n",
      "add edge 467 726\n",
      "add edge 118 726\n",
      "add edge 522 726\n"
     ]
    },
    {
     "name": "stderr",
     "output_type": "stream",
     "text": [
      " 87%|████████▋ | 65/75 [25:00<03:06, 18.60s/it]"
     ]
    },
    {
     "name": "stdout",
     "output_type": "stream",
     "text": [
      "add edge 282 725\n",
      "add edge 515 725\n",
      "add edge 522 725\n",
      "add edge 256 725\n",
      "add edge 702 725\n"
     ]
    },
    {
     "name": "stderr",
     "output_type": "stream",
     "text": [
      " 88%|████████▊ | 66/75 [25:15<02:38, 17.64s/it]"
     ]
    },
    {
     "name": "stdout",
     "output_type": "stream",
     "text": [
      "'answer'\n"
     ]
    },
    {
     "name": "stderr",
     "output_type": "stream",
     "text": [
      " 89%|████████▉ | 67/75 [25:55<03:15, 24.44s/it]"
     ]
    },
    {
     "name": "stdout",
     "output_type": "stream",
     "text": [
      "'answer'\n"
     ]
    },
    {
     "name": "stderr",
     "output_type": "stream",
     "text": [
      " 91%|█████████ | 68/75 [26:13<02:37, 22.49s/it]"
     ]
    },
    {
     "name": "stdout",
     "output_type": "stream",
     "text": [
      "add edge 335 730\n",
      "add edge 833 730\n",
      "add edge 522 730\n",
      "add edge 118 730\n",
      "add edge 282 730\n",
      "add edge 177 730\n",
      "add edge 719 730\n"
     ]
    },
    {
     "name": "stderr",
     "output_type": "stream",
     "text": [
      " 92%|█████████▏| 69/75 [26:29<02:02, 20.43s/it]"
     ]
    },
    {
     "name": "stdout",
     "output_type": "stream",
     "text": [
      "add edge 282 731\n",
      "add edge 467 731\n",
      "add edge 256 731\n"
     ]
    },
    {
     "name": "stderr",
     "output_type": "stream",
     "text": [
      " 93%|█████████▎| 70/75 [26:52<01:46, 21.39s/it]"
     ]
    },
    {
     "name": "stdout",
     "output_type": "stream",
     "text": [
      "add edge 720 727\n",
      "add edge 656 727\n",
      "add edge 365 727\n",
      "add edge 335 727\n",
      "add edge 810 727\n",
      "add edge 611 727\n",
      "add edge 246 727\n",
      "add edge 282 727\n",
      "add edge 118 727\n",
      "add edge 522 727\n"
     ]
    },
    {
     "name": "stderr",
     "output_type": "stream",
     "text": [
      " 95%|█████████▍| 71/75 [27:08<01:19, 19.76s/it]"
     ]
    },
    {
     "name": "stdout",
     "output_type": "stream",
     "text": [
      "add edge 515 232\n",
      "add edge 226 232\n",
      "add edge 256 232\n",
      "add edge 300 232\n",
      "add edge 282 232\n",
      "add edge 522 232\n",
      "add edge 467 232\n",
      "add edge 702 232\n"
     ]
    },
    {
     "name": "stderr",
     "output_type": "stream",
     "text": [
      " 96%|█████████▌| 72/75 [27:37<01:07, 22.36s/it]"
     ]
    },
    {
     "name": "stdout",
     "output_type": "stream",
     "text": [
      "'answer'\n"
     ]
    },
    {
     "name": "stderr",
     "output_type": "stream",
     "text": [
      " 97%|█████████▋| 73/75 [27:51<00:40, 20.06s/it]"
     ]
    },
    {
     "name": "stdout",
     "output_type": "stream",
     "text": [
      "add edge 522 497\n",
      "add edge 282 497\n",
      "add edge 300 497\n",
      "add edge 256 497\n",
      "add edge 559 497\n",
      "add edge 720 497\n",
      "add edge 809 497\n",
      "add edge 719 497\n",
      "add edge 702 497\n",
      "add edge 232 497\n"
     ]
    },
    {
     "name": "stderr",
     "output_type": "stream",
     "text": [
      " 99%|█████████▊| 74/75 [28:04<00:17, 17.78s/it]"
     ]
    },
    {
     "name": "stdout",
     "output_type": "stream",
     "text": [
      "add edge 282 243\n",
      "add edge 256 243\n",
      "add edge 515 243\n",
      "add edge 300 243\n",
      "add edge 522 243\n"
     ]
    },
    {
     "name": "stderr",
     "output_type": "stream",
     "text": [
      "100%|██████████| 75/75 [28:17<00:00, 22.64s/it]"
     ]
    },
    {
     "name": "stdout",
     "output_type": "stream",
     "text": [
      "add edge 256 250\n",
      "add edge 282 250\n",
      "add edge 702 250\n",
      "add edge 522 250\n",
      "add edge 300 250\n"
     ]
    },
    {
     "name": "stderr",
     "output_type": "stream",
     "text": [
      "\n"
     ]
    }
   ],
   "source": [
    "test_graph = model.predict_links(test_graph, new_nodes, file_name=f\"new_graph/new_graph_{period}.pkl\")"
   ]
  },
  {
   "cell_type": "code",
   "execution_count": 8,
   "metadata": {},
   "outputs": [
    {
     "data": {
      "text/plain": [
       "True"
      ]
     },
     "execution_count": 8,
     "metadata": {},
     "output_type": "execute_result"
    }
   ],
   "source": [
    "new_model.graph.has_edge(461,690)"
   ]
  },
  {
   "cell_type": "markdown",
   "metadata": {},
   "source": [
    "# Re-predict the isolated nodes"
   ]
  },
  {
   "cell_type": "code",
   "execution_count": 6,
   "metadata": {},
   "outputs": [
    {
     "name": "stdout",
     "output_type": "stream",
     "text": [
      "0\n"
     ]
    }
   ],
   "source": [
    "issolated_nodes = new_model.get_isolated_nodes()\n",
    "print(len(issolated_nodes))"
   ]
  },
  {
   "cell_type": "markdown",
   "metadata": {},
   "source": [
    "### if len(issolated_nodes) > 0"
   ]
  },
  {
   "cell_type": "code",
   "execution_count": 40,
   "metadata": {},
   "outputs": [
    {
     "name": "stderr",
     "output_type": "stream",
     "text": [
      " 50%|█████     | 1/2 [00:20<00:20, 20.41s/it]"
     ]
    },
    {
     "name": "stdout",
     "output_type": "stream",
     "text": [
      "add edge 835 522\n",
      "add edge 835 282\n",
      "add edge 835 300\n",
      "add edge 835 300\n"
     ]
    },
    {
     "name": "stderr",
     "output_type": "stream",
     "text": [
      "100%|██████████| 2/2 [00:42<00:00, 21.16s/it]"
     ]
    },
    {
     "name": "stdout",
     "output_type": "stream",
     "text": [
      "add edge 724 256\n",
      "add edge 724 282\n",
      "add edge 724 515\n",
      "add edge 724 300\n"
     ]
    },
    {
     "name": "stderr",
     "output_type": "stream",
     "text": [
      "\n"
     ]
    }
   ],
   "source": [
    "test_graph = new_model.graph.copy()\n",
    "test_graph = model.predict_links(test_graph, issolated_nodes,file_name=f\"new_graph_{period}.pkl\")"
   ]
  },
  {
   "cell_type": "code",
   "execution_count": 41,
   "metadata": {},
   "outputs": [
    {
     "name": "stdout",
     "output_type": "stream",
     "text": [
      "0\n"
     ]
    }
   ],
   "source": [
    "new_model = ChoiceModel(graph_path=f\"new_graph_{period}.pkl\")\n",
    "\n",
    "issolated_nodes = new_model.get_isolated_nodes()\n",
    "print(len(issolated_nodes))\n",
    "\n",
    "#if isolated nodes stil exist, remove them\n",
    "new_model.remove_isolated_nodes()\n",
    "new_model.visualize(file_name=f\"new_graph_{period}.html\")"
   ]
  },
  {
   "cell_type": "markdown",
   "metadata": {},
   "source": [
    "# Evaluate"
   ]
  },
  {
   "cell_type": "code",
   "execution_count": 44,
   "metadata": {},
   "outputs": [
    {
     "name": "stdout",
     "output_type": "stream",
     "text": [
      "period:  2\n",
      "OLD_PPI: 0.34454789123651813  OLD_CVI:  4.083333333333333 OLD_DCI:  0.7346938775510204\n",
      "PREV_PPI: 0.5884246031746032  PREV_CVI:  3.57 PREV_DCI:  0.5602240896358541\n",
      "Old_DCI: 0.6083953634085213 DCI:  3.65 NEX_DCI:  0.5479452054794519\n"
     ]
    }
   ],
   "source": [
    "model.roll_back(period)\n",
    "prev_model = ChoiceModel(graph_path=f\"new_graph_{period-1}.pkl\")\n",
    "OLD_PPI, OLD_CVI, OLD_DCI = model.evaluate()\n",
    "PREV_PPI, PREV_CVI, PREV_DCI = prev_model.evaluate()\n",
    "NEXT_PPI, NEXT_CVI, NEXT_DCI = new_model.evaluate(test_graph)\n",
    "print(\"period: \",period)\n",
    "print(\"OLD_PPI:\",OLD_PPI,\" OLD_CVI: \", OLD_CVI, \"OLD_DCI: \", OLD_DCI)\n",
    "print(\"PREV_PPI:\",PREV_PPI,\" PREV_CVI: \", PREV_CVI, \"PREV_DCI: \", PREV_DCI)\n",
    "print(\"Old_DCI:\",NEXT_PPI,\"DCI: \",  NEXT_CVI, \"NEX_DCI: \", NEXT_DCI)"
   ]
  },
  {
   "cell_type": "code",
   "execution_count": null,
   "metadata": {},
   "outputs": [],
   "source": []
  }
 ],
 "metadata": {
  "kernelspec": {
   "display_name": "pytorch",
   "language": "python",
   "name": "python3"
  },
  "language_info": {
   "codemirror_mode": {
    "name": "ipython",
    "version": 3
   },
   "file_extension": ".py",
   "mimetype": "text/x-python",
   "name": "python",
   "nbconvert_exporter": "python",
   "pygments_lexer": "ipython3",
   "version": "3.8.18"
  }
 },
 "nbformat": 4,
 "nbformat_minor": 2
}
