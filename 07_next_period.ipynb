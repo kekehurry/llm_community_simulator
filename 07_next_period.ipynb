{
 "cells": [
  {
   "cell_type": "code",
   "execution_count": 34,
   "metadata": {},
   "outputs": [],
   "source": [
    "from choice_model import ChoiceModel\n",
    "model = ChoiceModel()\n",
    "prev_period_file = 'new_graph_1.pkl'\n",
    "new_model = ChoiceModel(graph_path=prev_period_file) \n",
    "period = 2"
   ]
  },
  {
   "cell_type": "markdown",
   "metadata": {},
   "source": [
    "# Overview of previous period"
   ]
  },
  {
   "cell_type": "code",
   "execution_count": 35,
   "metadata": {},
   "outputs": [
    {
     "name": "stdout",
     "output_type": "stream",
     "text": [
      "Old_PPI: 0.36203834669181195  PPI:  0.5884246031746032\n",
      "Old_CVI: 3.98019801980198  CVI:  3.57\n",
      "Old_DCI: 0.753731343283582 DCI:  0.5602240896358541\n"
     ]
    }
   ],
   "source": [
    "model.roll_back(period-1)\n",
    "Old_PPI, Old_CVI, Old_DCI = model.evaluate()\n",
    "PPI, CVI, DCI = new_model.evaluate()\n",
    "print(\"Old_PPI:\",Old_PPI,\" PPI: \", PPI)\n",
    "print(\"Old_CVI:\",Old_CVI,\" CVI: \", CVI)\n",
    "print(\"Old_DCI:\",Old_DCI,\"DCI: \", DCI)"
   ]
  },
  {
   "cell_type": "markdown",
   "metadata": {},
   "source": [
    "# Simulate Period"
   ]
  },
  {
   "cell_type": "code",
   "execution_count": 36,
   "metadata": {},
   "outputs": [
    {
     "name": "stdout",
     "output_type": "stream",
     "text": [
      "period:  2\n",
      "number of nodes:  118\n",
      "number of actors:  94\n",
      "number of other nodes:  71\n"
     ]
    }
   ],
   "source": [
    "# get all nodes in certain period \n",
    "graph = model.get_period(period)\n",
    "new_nodes = [n for n in graph.nodes if n not in list(new_model.graph.nodes)]\n",
    "new_nodes = [n for n in new_nodes if graph.nodes[n]['type'] != 'Long-term Project']\n",
    "actor_ndoes = [n for n in graph.nodes if graph.nodes[n]['type'] == 'Actors']\n",
    "other_nodes = [n for n in graph.nodes if graph.nodes[n]['type'] != 'Actors']\n",
    "print(\"period: \",period)\n",
    "print(\"number of nodes: \",len(new_nodes))\n",
    "print(\"number of actors: \", len(actor_ndoes))\n",
    "print(\"number of other nodes: \",len(other_nodes))"
   ]
  },
  {
   "cell_type": "code",
   "execution_count": 37,
   "metadata": {},
   "outputs": [],
   "source": [
    "test_graph = new_model.graph.copy()"
   ]
  },
  {
   "cell_type": "code",
   "execution_count": 38,
   "metadata": {},
   "outputs": [
    {
     "name": "stderr",
     "output_type": "stream",
     "text": [
      "  1%|          | 1/118 [00:16<32:43, 16.78s/it]"
     ]
    },
    {
     "name": "stdout",
     "output_type": "stream",
     "text": [
      "add edge 0 522\n",
      "add edge 0 282\n",
      "add edge 0 256\n"
     ]
    },
    {
     "name": "stderr",
     "output_type": "stream",
     "text": [
      "  2%|▏         | 2/118 [00:28<26:21, 13.63s/it]"
     ]
    },
    {
     "name": "stdout",
     "output_type": "stream",
     "text": [
      "add edge 513 300\n"
     ]
    },
    {
     "name": "stderr",
     "output_type": "stream",
     "text": [
      "  3%|▎         | 3/118 [00:37<22:01, 11.49s/it]"
     ]
    },
    {
     "name": "stdout",
     "output_type": "stream",
     "text": [
      "add edge 1028 300\n",
      "add edge 1028 300\n",
      "add edge 1028 679\n"
     ]
    },
    {
     "name": "stderr",
     "output_type": "stream",
     "text": [
      "  3%|▎         | 4/118 [00:50<23:14, 12.23s/it]"
     ]
    },
    {
     "name": "stdout",
     "output_type": "stream",
     "text": [
      "'answer'\n"
     ]
    },
    {
     "name": "stderr",
     "output_type": "stream",
     "text": [
      "  4%|▍         | 5/118 [01:07<26:31, 14.08s/it]"
     ]
    },
    {
     "name": "stdout",
     "output_type": "stream",
     "text": [
      "add edge 525 282\n",
      "add edge 525 275\n",
      "add edge 525 809\n",
      "add edge 525 522\n"
     ]
    },
    {
     "name": "stderr",
     "output_type": "stream",
     "text": [
      "  5%|▌         | 6/118 [01:19<24:47, 13.28s/it]"
     ]
    },
    {
     "name": "stdout",
     "output_type": "stream",
     "text": [
      "add edge 1040 282\n",
      "add edge 1040 256\n",
      "add edge 1040 256\n"
     ]
    },
    {
     "name": "stderr",
     "output_type": "stream",
     "text": [
      "  6%|▌         | 7/118 [01:38<28:01, 15.15s/it]"
     ]
    },
    {
     "name": "stdout",
     "output_type": "stream",
     "text": [
      "add edge 1041 282\n",
      "add edge 1041 256\n",
      "add edge 1041 256\n",
      "add edge 1041 256\n"
     ]
    },
    {
     "name": "stderr",
     "output_type": "stream",
     "text": [
      "  7%|▋         | 8/118 [01:59<31:23, 17.12s/it]"
     ]
    },
    {
     "name": "stdout",
     "output_type": "stream",
     "text": [
      "add edge 1043 335\n",
      "add edge 1043 522\n",
      "add edge 1043 703\n"
     ]
    },
    {
     "name": "stderr",
     "output_type": "stream",
     "text": [
      "  8%|▊         | 9/118 [02:08<26:29, 14.58s/it]"
     ]
    },
    {
     "name": "stdout",
     "output_type": "stream",
     "text": [
      "add edge 1047 461\n",
      "add edge 1047 282\n",
      "add edge 1047 300\n",
      "add edge 1047 323\n"
     ]
    },
    {
     "name": "stderr",
     "output_type": "stream",
     "text": [
      "  8%|▊         | 10/118 [02:23<26:21, 14.65s/it]"
     ]
    },
    {
     "name": "stdout",
     "output_type": "stream",
     "text": [
      "add edge 538 461\n",
      "add edge 538 256\n",
      "add edge 538 300\n",
      "add edge 538 300\n"
     ]
    },
    {
     "name": "stderr",
     "output_type": "stream",
     "text": [
      "  9%|▉         | 11/118 [02:32<22:40, 12.71s/it]"
     ]
    },
    {
     "name": "stdout",
     "output_type": "stream",
     "text": [
      "add edge 29 522\n",
      "add edge 29 282\n",
      "add edge 29 300\n",
      "add edge 29 282\n",
      "add edge 29 256\n"
     ]
    },
    {
     "name": "stderr",
     "output_type": "stream",
     "text": [
      " 10%|█         | 12/118 [02:45<22:59, 13.01s/it]"
     ]
    },
    {
     "name": "stdout",
     "output_type": "stream",
     "text": [
      "add edge 547 256\n",
      "add edge 547 282\n"
     ]
    },
    {
     "name": "stderr",
     "output_type": "stream",
     "text": [
      " 11%|█         | 13/118 [02:55<20:48, 11.89s/it]"
     ]
    },
    {
     "name": "stdout",
     "output_type": "stream",
     "text": [
      "add edge 549 282\n",
      "add edge 549 282\n"
     ]
    },
    {
     "name": "stderr",
     "output_type": "stream",
     "text": [
      " 12%|█▏        | 14/118 [03:01<18:00, 10.39s/it]"
     ]
    },
    {
     "name": "stdout",
     "output_type": "stream",
     "text": [
      "add edge 553 282\n",
      "add edge 553 515\n",
      "add edge 553 522\n"
     ]
    },
    {
     "name": "stderr",
     "output_type": "stream",
     "text": [
      " 13%|█▎        | 15/118 [03:15<19:19, 11.26s/it]"
     ]
    },
    {
     "name": "stdout",
     "output_type": "stream",
     "text": [
      "add edge 572 515\n",
      "add edge 572 226\n",
      "add edge 572 256\n",
      "add edge 572 300\n"
     ]
    },
    {
     "name": "stderr",
     "output_type": "stream",
     "text": [
      " 14%|█▎        | 16/118 [03:27<19:31, 11.49s/it]"
     ]
    },
    {
     "name": "stdout",
     "output_type": "stream",
     "text": [
      "add edge 64 300\n",
      "add edge 64 522\n",
      "add edge 64 300\n"
     ]
    },
    {
     "name": "stderr",
     "output_type": "stream",
     "text": [
      " 14%|█▍        | 17/118 [03:38<19:24, 11.53s/it]"
     ]
    },
    {
     "name": "stdout",
     "output_type": "stream",
     "text": [
      "'answer'\n"
     ]
    },
    {
     "name": "stderr",
     "output_type": "stream",
     "text": [
      " 15%|█▌        | 18/118 [03:51<19:37, 11.77s/it]"
     ]
    },
    {
     "name": "stdout",
     "output_type": "stream",
     "text": [
      "add edge 583 461\n",
      "add edge 583 515\n",
      "add edge 583 810\n",
      "add edge 583 256\n"
     ]
    },
    {
     "name": "stderr",
     "output_type": "stream",
     "text": [
      " 16%|█▌        | 19/118 [03:58<17:18, 10.49s/it]"
     ]
    },
    {
     "name": "stdout",
     "output_type": "stream",
     "text": [
      "add edge 88 522\n"
     ]
    },
    {
     "name": "stderr",
     "output_type": "stream",
     "text": [
      " 17%|█▋        | 20/118 [04:08<16:39, 10.20s/it]"
     ]
    },
    {
     "name": "stdout",
     "output_type": "stream",
     "text": [
      "add edge 603 256\n",
      "add edge 603 300\n",
      "add edge 603 522\n",
      "add edge 603 256\n",
      "add edge 603 282\n"
     ]
    },
    {
     "name": "stderr",
     "output_type": "stream",
     "text": [
      " 18%|█▊        | 21/118 [04:19<16:57, 10.49s/it]"
     ]
    },
    {
     "name": "stdout",
     "output_type": "stream",
     "text": [
      "add edge 616 256\n",
      "add edge 616 515\n",
      "add edge 616 300\n",
      "add edge 616 282\n"
     ]
    },
    {
     "name": "stderr",
     "output_type": "stream",
     "text": [
      " 19%|█▊        | 22/118 [04:43<23:03, 14.41s/it]"
     ]
    },
    {
     "name": "stdout",
     "output_type": "stream",
     "text": [
      "add edge 1132 515\n",
      "add edge 1132 141\n",
      "add edge 1132 809\n"
     ]
    },
    {
     "name": "stderr",
     "output_type": "stream",
     "text": [
      " 19%|█▉        | 23/118 [04:52<20:39, 13.04s/it]"
     ]
    },
    {
     "name": "stdout",
     "output_type": "stream",
     "text": [
      "add edge 110 282\n",
      "add edge 110 300\n",
      "add edge 110 282\n"
     ]
    },
    {
     "name": "stderr",
     "output_type": "stream",
     "text": [
      " 20%|██        | 24/118 [05:11<22:58, 14.66s/it]"
     ]
    },
    {
     "name": "stdout",
     "output_type": "stream",
     "text": [
      "add edge 1133 515\n",
      "add edge 1133 275\n"
     ]
    },
    {
     "name": "stderr",
     "output_type": "stream",
     "text": [
      " 21%|██        | 25/118 [05:28<24:01, 15.50s/it]"
     ]
    },
    {
     "name": "stdout",
     "output_type": "stream",
     "text": [
      "add edge 1134 256\n",
      "add edge 1134 141\n",
      "add edge 1134 809\n"
     ]
    },
    {
     "name": "stderr",
     "output_type": "stream",
     "text": [
      " 22%|██▏       | 26/118 [05:43<23:16, 15.18s/it]"
     ]
    },
    {
     "name": "stdout",
     "output_type": "stream",
     "text": [
      "add edge 736 515\n",
      "add edge 736 282\n",
      "add edge 736 275\n"
     ]
    },
    {
     "name": "stderr",
     "output_type": "stream",
     "text": [
      " 23%|██▎       | 27/118 [05:52<20:10, 13.30s/it]"
     ]
    },
    {
     "name": "stdout",
     "output_type": "stream",
     "text": [
      "add edge 122 282\n"
     ]
    },
    {
     "name": "stderr",
     "output_type": "stream",
     "text": [
      " 24%|██▎       | 28/118 [06:02<18:51, 12.57s/it]"
     ]
    },
    {
     "name": "stdout",
     "output_type": "stream",
     "text": [
      "add edge 641 282\n",
      "add edge 641 300\n",
      "add edge 641 282\n"
     ]
    },
    {
     "name": "stderr",
     "output_type": "stream",
     "text": [
      " 25%|██▍       | 29/118 [06:15<18:37, 12.56s/it]"
     ]
    },
    {
     "name": "stdout",
     "output_type": "stream",
     "text": [
      "add edge 738 515\n",
      "add edge 738 282\n"
     ]
    },
    {
     "name": "stderr",
     "output_type": "stream",
     "text": [
      " 25%|██▌       | 30/118 [06:28<18:28, 12.60s/it]"
     ]
    },
    {
     "name": "stdout",
     "output_type": "stream",
     "text": [
      "add edge 740 282\n",
      "add edge 740 365\n"
     ]
    },
    {
     "name": "stderr",
     "output_type": "stream",
     "text": [
      " 26%|██▋       | 31/118 [06:42<19:09, 13.21s/it]"
     ]
    },
    {
     "name": "stdout",
     "output_type": "stream",
     "text": [
      "add edge 655 275\n",
      "add edge 655 335\n",
      "add edge 655 335\n"
     ]
    },
    {
     "name": "stderr",
     "output_type": "stream",
     "text": [
      " 27%|██▋       | 32/118 [07:00<21:00, 14.66s/it]"
     ]
    },
    {
     "name": "stdout",
     "output_type": "stream",
     "text": [
      "add edge 662 522\n",
      "add edge 662 300\n",
      "add edge 662 282\n",
      "add edge 662 256\n"
     ]
    },
    {
     "name": "stderr",
     "output_type": "stream",
     "text": [
      " 28%|██▊       | 33/118 [07:16<21:05, 14.89s/it]"
     ]
    },
    {
     "name": "stdout",
     "output_type": "stream",
     "text": [
      "add edge 667 522\n",
      "add edge 667 282\n",
      "add edge 667 300\n",
      "add edge 667 282\n",
      "add edge 667 256\n"
     ]
    },
    {
     "name": "stderr",
     "output_type": "stream",
     "text": [
      " 29%|██▉       | 34/118 [07:25<18:18, 13.07s/it]"
     ]
    },
    {
     "name": "stdout",
     "output_type": "stream",
     "text": [
      "add edge 670 256\n",
      "add edge 670 282\n",
      "add edge 670 300\n",
      "add edge 670 282\n"
     ]
    },
    {
     "name": "stderr",
     "output_type": "stream",
     "text": [
      " 30%|██▉       | 35/118 [07:50<23:11, 16.77s/it]"
     ]
    },
    {
     "name": "stdout",
     "output_type": "stream",
     "text": [
      "add edge 745 335\n",
      "add edge 745 522\n",
      "add edge 745 522\n"
     ]
    },
    {
     "name": "stderr",
     "output_type": "stream",
     "text": [
      " 31%|███       | 36/118 [08:04<21:52, 16.01s/it]"
     ]
    },
    {
     "name": "stdout",
     "output_type": "stream",
     "text": [
      "add edge 168 300\n",
      "add edge 168 282\n",
      "add edge 168 522\n",
      "add edge 168 300\n"
     ]
    },
    {
     "name": "stderr",
     "output_type": "stream",
     "text": [
      " 31%|███▏      | 37/118 [08:14<19:01, 14.09s/it]"
     ]
    },
    {
     "name": "stdout",
     "output_type": "stream",
     "text": [
      "add edge 169 282\n",
      "add edge 169 256\n",
      "add edge 169 300\n",
      "add edge 169 522\n"
     ]
    },
    {
     "name": "stderr",
     "output_type": "stream",
     "text": [
      " 32%|███▏      | 38/118 [08:27<18:27, 13.85s/it]"
     ]
    },
    {
     "name": "stdout",
     "output_type": "stream",
     "text": [
      "add edge 174 702\n",
      "add edge 174 282\n",
      "add edge 174 256\n"
     ]
    },
    {
     "name": "stderr",
     "output_type": "stream",
     "text": [
      " 33%|███▎      | 39/118 [08:42<18:37, 14.15s/it]"
     ]
    },
    {
     "name": "stdout",
     "output_type": "stream",
     "text": [
      "add edge 180 282\n",
      "add edge 180 522\n",
      "add edge 180 256\n",
      "add edge 180 256\n",
      "add edge 180 256\n"
     ]
    },
    {
     "name": "stderr",
     "output_type": "stream",
     "text": [
      " 34%|███▍      | 40/118 [08:58<19:04, 14.68s/it]"
     ]
    },
    {
     "name": "stdout",
     "output_type": "stream",
     "text": [
      "add edge 220 282\n",
      "add edge 220 256\n",
      "add edge 220 300\n",
      "add edge 220 522\n"
     ]
    },
    {
     "name": "stderr",
     "output_type": "stream",
     "text": [
      " 35%|███▍      | 41/118 [09:10<17:49, 13.89s/it]"
     ]
    },
    {
     "name": "stdout",
     "output_type": "stream",
     "text": [
      "add edge 732 282\n",
      "add edge 732 810\n",
      "add edge 732 522\n",
      "add edge 732 256\n"
     ]
    },
    {
     "name": "stderr",
     "output_type": "stream",
     "text": [
      " 36%|███▌      | 42/118 [09:31<20:19, 16.05s/it]"
     ]
    },
    {
     "name": "stdout",
     "output_type": "stream",
     "text": [
      "add edge 222 335\n",
      "add edge 222 522\n",
      "add edge 222 522\n"
     ]
    },
    {
     "name": "stderr",
     "output_type": "stream",
     "text": [
      " 36%|███▋      | 43/118 [09:38<16:49, 13.46s/it]"
     ]
    },
    {
     "name": "stdout",
     "output_type": "stream",
     "text": [
      "add edge 735 515\n",
      "add edge 735 282\n",
      "add edge 735 275\n",
      "add edge 735 323\n"
     ]
    },
    {
     "name": "stderr",
     "output_type": "stream",
     "text": [
      " 37%|███▋      | 44/118 [09:46<14:31, 11.78s/it]"
     ]
    },
    {
     "name": "stdout",
     "output_type": "stream",
     "text": [
      "add edge 733 656\n",
      "add edge 733 395\n",
      "add edge 733 365\n"
     ]
    },
    {
     "name": "stderr",
     "output_type": "stream",
     "text": [
      " 38%|███▊      | 45/118 [10:04<16:27, 13.53s/it]"
     ]
    },
    {
     "name": "stdout",
     "output_type": "stream",
     "text": [
      "add edge 737 515\n",
      "add edge 737 226\n",
      "add edge 737 256\n"
     ]
    },
    {
     "name": "stderr",
     "output_type": "stream",
     "text": [
      " 39%|███▉      | 46/118 [10:11<14:02, 11.71s/it]"
     ]
    },
    {
     "name": "stdout",
     "output_type": "stream",
     "text": [
      "add edge 734 282\n",
      "add edge 734 515\n",
      "add edge 734 522\n"
     ]
    },
    {
     "name": "stderr",
     "output_type": "stream",
     "text": [
      " 40%|███▉      | 47/118 [10:19<12:29, 10.55s/it]"
     ]
    },
    {
     "name": "stdout",
     "output_type": "stream",
     "text": [
      "add edge 739 282\n",
      "add edge 739 810\n",
      "add edge 739 256\n"
     ]
    },
    {
     "name": "stderr",
     "output_type": "stream",
     "text": [
      " 41%|████      | 48/118 [10:29<11:56, 10.23s/it]"
     ]
    },
    {
     "name": "stdout",
     "output_type": "stream",
     "text": [
      "add edge 228 461\n",
      "add edge 228 300\n",
      "add edge 228 300\n"
     ]
    },
    {
     "name": "stderr",
     "output_type": "stream",
     "text": [
      " 42%|████▏     | 49/118 [10:37<11:08,  9.69s/it]"
     ]
    },
    {
     "name": "stdout",
     "output_type": "stream",
     "text": [
      "add edge 741 282\n",
      "add edge 741 365\n"
     ]
    },
    {
     "name": "stderr",
     "output_type": "stream",
     "text": [
      " 42%|████▏     | 50/118 [11:37<27:53, 24.61s/it]"
     ]
    },
    {
     "name": "stdout",
     "output_type": "stream",
     "text": [
      "add edge 742 461\n",
      "add edge 742 282\n",
      "add edge 742 300\n",
      "add edge 742 335\n"
     ]
    },
    {
     "name": "stderr",
     "output_type": "stream",
     "text": [
      " 43%|████▎     | 51/118 [11:44<21:43, 19.45s/it]"
     ]
    },
    {
     "name": "stdout",
     "output_type": "stream",
     "text": [
      "add edge 743 282\n",
      "add edge 743 275\n",
      "add edge 743 323\n"
     ]
    },
    {
     "name": "stderr",
     "output_type": "stream",
     "text": [
      " 44%|████▍     | 52/118 [11:48<16:18, 14.82s/it]"
     ]
    },
    {
     "name": "stdout",
     "output_type": "stream",
     "text": [
      "add edge 744 515\n",
      "add edge 744 282\n",
      "add edge 744 275\n"
     ]
    },
    {
     "name": "stderr",
     "output_type": "stream",
     "text": [
      " 45%|████▍     | 53/118 [12:00<15:16, 14.09s/it]"
     ]
    },
    {
     "name": "stdout",
     "output_type": "stream",
     "text": [
      "add edge 231 282\n",
      "add edge 231 522\n"
     ]
    },
    {
     "name": "stderr",
     "output_type": "stream",
     "text": [
      " 46%|████▌     | 54/118 [12:13<14:28, 13.58s/it]"
     ]
    },
    {
     "name": "stdout",
     "output_type": "stream",
     "text": [
      "add edge 746 656\n",
      "add edge 746 810\n"
     ]
    },
    {
     "name": "stderr",
     "output_type": "stream",
     "text": [
      " 47%|████▋     | 55/118 [12:20<12:08, 11.57s/it]"
     ]
    },
    {
     "name": "stdout",
     "output_type": "stream",
     "text": [
      "add edge 747 515\n",
      "add edge 747 282\n"
     ]
    },
    {
     "name": "stderr",
     "output_type": "stream",
     "text": [
      " 47%|████▋     | 56/118 [12:30<11:39, 11.29s/it]"
     ]
    },
    {
     "name": "stdout",
     "output_type": "stream",
     "text": [
      "add edge 748 232\n",
      "add edge 748 365\n",
      "add edge 748 335\n",
      "add edge 748 810\n"
     ]
    },
    {
     "name": "stderr",
     "output_type": "stream",
     "text": [
      " 48%|████▊     | 57/118 [12:48<13:16, 13.06s/it]"
     ]
    },
    {
     "name": "stdout",
     "output_type": "stream",
     "text": [
      "add edge 749 515\n",
      "add edge 749 282\n",
      "add edge 749 226\n",
      "add edge 749 256\n"
     ]
    },
    {
     "name": "stderr",
     "output_type": "stream",
     "text": [
      " 49%|████▉     | 58/118 [13:02<13:22, 13.37s/it]"
     ]
    },
    {
     "name": "stdout",
     "output_type": "stream",
     "text": [
      "add edge 750 282\n",
      "add edge 750 525\n",
      "add edge 750 282\n",
      "add edge 750 282\n"
     ]
    },
    {
     "name": "stderr",
     "output_type": "stream",
     "text": [
      " 50%|█████     | 59/118 [13:22<15:20, 15.60s/it]"
     ]
    },
    {
     "name": "stdout",
     "output_type": "stream",
     "text": [
      "add edge 751 232\n",
      "add edge 751 365\n",
      "add edge 751 335\n"
     ]
    },
    {
     "name": "stderr",
     "output_type": "stream",
     "text": [
      " 51%|█████     | 60/118 [13:30<12:40, 13.10s/it]"
     ]
    },
    {
     "name": "stdout",
     "output_type": "stream",
     "text": [
      "add edge 752 282\n",
      "add edge 752 656\n",
      "add edge 752 395\n",
      "add edge 752 365\n"
     ]
    },
    {
     "name": "stderr",
     "output_type": "stream",
     "text": [
      " 52%|█████▏    | 61/118 [13:36<10:30, 11.06s/it]"
     ]
    },
    {
     "name": "stdout",
     "output_type": "stream",
     "text": [
      "add edge 753 282\n",
      "add edge 753 395\n",
      "add edge 753 365\n"
     ]
    },
    {
     "name": "stderr",
     "output_type": "stream",
     "text": [
      " 53%|█████▎    | 62/118 [13:44<09:21, 10.03s/it]"
     ]
    },
    {
     "name": "stdout",
     "output_type": "stream",
     "text": [
      "add edge 754 256\n",
      "add edge 754 282\n",
      "add edge 754 300\n",
      "add edge 754 282\n"
     ]
    },
    {
     "name": "stderr",
     "output_type": "stream",
     "text": [
      " 53%|█████▎    | 63/118 [13:59<10:34, 11.54s/it]"
     ]
    },
    {
     "name": "stdout",
     "output_type": "stream",
     "text": [
      "add edge 755 282\n",
      "add edge 755 256\n",
      "add edge 755 515\n"
     ]
    },
    {
     "name": "stderr",
     "output_type": "stream",
     "text": [
      " 54%|█████▍    | 64/118 [14:22<13:34, 15.08s/it]"
     ]
    },
    {
     "name": "stdout",
     "output_type": "stream",
     "text": [
      "add edge 756 833\n",
      "add edge 756 522\n",
      "add edge 756 522\n",
      "add edge 756 522\n"
     ]
    },
    {
     "name": "stderr",
     "output_type": "stream",
     "text": [
      " 55%|█████▌    | 65/118 [14:35<12:40, 14.34s/it]"
     ]
    },
    {
     "name": "stdout",
     "output_type": "stream",
     "text": [
      "add edge 757 282\n",
      "add edge 757 256\n",
      "add edge 757 300\n",
      "add edge 757 300\n",
      "add edge 757 300\n"
     ]
    },
    {
     "name": "stderr",
     "output_type": "stream",
     "text": [
      " 56%|█████▌    | 66/118 [14:49<12:32, 14.47s/it]"
     ]
    },
    {
     "name": "stdout",
     "output_type": "stream",
     "text": [
      "add edge 758 656\n"
     ]
    },
    {
     "name": "stderr",
     "output_type": "stream",
     "text": [
      " 57%|█████▋    | 67/118 [15:04<12:19, 14.51s/it]"
     ]
    },
    {
     "name": "stdout",
     "output_type": "stream",
     "text": [
      "add edge 759 515\n",
      "add edge 759 282\n",
      "add edge 759 323\n"
     ]
    },
    {
     "name": "stderr",
     "output_type": "stream",
     "text": [
      " 58%|█████▊    | 68/118 [15:13<10:36, 12.73s/it]"
     ]
    },
    {
     "name": "stdout",
     "output_type": "stream",
     "text": [
      "add edge 760 275\n",
      "add edge 760 809\n",
      "add edge 760 522\n",
      "add edge 760 256\n",
      "add edge 760 256\n"
     ]
    },
    {
     "name": "stderr",
     "output_type": "stream",
     "text": [
      " 58%|█████▊    | 69/118 [15:22<09:33, 11.70s/it]"
     ]
    },
    {
     "name": "stdout",
     "output_type": "stream",
     "text": [
      "add edge 252 515\n",
      "add edge 252 810\n",
      "add edge 252 226\n"
     ]
    },
    {
     "name": "stderr",
     "output_type": "stream",
     "text": [
      " 59%|█████▉    | 70/118 [15:34<09:24, 11.76s/it]"
     ]
    },
    {
     "name": "stdout",
     "output_type": "stream",
     "text": [
      "add edge 253 522\n",
      "add edge 253 282\n",
      "add edge 253 282\n"
     ]
    },
    {
     "name": "stderr",
     "output_type": "stream",
     "text": [
      " 60%|██████    | 71/118 [15:49<10:03, 12.83s/it]"
     ]
    },
    {
     "name": "stdout",
     "output_type": "stream",
     "text": [
      "add edge 767 282\n",
      "add edge 767 522\n",
      "add edge 767 256\n",
      "add edge 767 256\n",
      "add edge 767 282\n"
     ]
    },
    {
     "name": "stderr",
     "output_type": "stream",
     "text": [
      " 61%|██████    | 72/118 [16:03<10:02, 13.09s/it]"
     ]
    },
    {
     "name": "stdout",
     "output_type": "stream",
     "text": [
      "add edge 274 256\n",
      "add edge 274 282\n",
      "add edge 274 300\n",
      "add edge 274 282\n"
     ]
    },
    {
     "name": "stderr",
     "output_type": "stream",
     "text": [
      " 62%|██████▏   | 73/118 [16:25<11:50, 15.79s/it]"
     ]
    },
    {
     "name": "stdout",
     "output_type": "stream",
     "text": [
      "add edge 278 335\n",
      "add edge 278 282\n"
     ]
    },
    {
     "name": "stderr",
     "output_type": "stream",
     "text": [
      " 63%|██████▎   | 74/118 [16:46<12:48, 17.46s/it]"
     ]
    },
    {
     "name": "stdout",
     "output_type": "stream",
     "text": [
      "add edge 812 282\n",
      "add edge 812 282\n",
      "add edge 812 335\n",
      "add edge 812 572\n"
     ]
    },
    {
     "name": "stderr",
     "output_type": "stream",
     "text": [
      " 64%|██████▎   | 75/118 [17:03<12:20, 17.22s/it]"
     ]
    },
    {
     "name": "stdout",
     "output_type": "stream",
     "text": [
      "add edge 303 300\n",
      "add edge 303 522\n",
      "add edge 303 300\n"
     ]
    },
    {
     "name": "stderr",
     "output_type": "stream",
     "text": [
      " 64%|██████▍   | 76/118 [17:53<18:58, 27.11s/it]"
     ]
    },
    {
     "name": "stdout",
     "output_type": "stream",
     "text": [
      "add edge 304 461\n",
      "add edge 304 282\n",
      "add edge 304 300\n"
     ]
    },
    {
     "name": "stderr",
     "output_type": "stream",
     "text": [
      " 65%|██████▌   | 77/118 [18:02<14:42, 21.53s/it]"
     ]
    },
    {
     "name": "stdout",
     "output_type": "stream",
     "text": [
      "add edge 311 282\n",
      "add edge 311 256\n",
      "add edge 311 300\n",
      "add edge 311 522\n"
     ]
    },
    {
     "name": "stderr",
     "output_type": "stream",
     "text": [
      " 66%|██████▌   | 78/118 [18:16<12:49, 19.25s/it]"
     ]
    },
    {
     "name": "stdout",
     "output_type": "stream",
     "text": [
      "add edge 312 275\n",
      "add edge 312 177\n",
      "add edge 312 522\n",
      "add edge 312 335\n"
     ]
    },
    {
     "name": "stderr",
     "output_type": "stream",
     "text": [
      " 67%|██████▋   | 79/118 [18:37<12:51, 19.78s/it]"
     ]
    },
    {
     "name": "stdout",
     "output_type": "stream",
     "text": [
      "add edge 838 256\n",
      "add edge 838 300\n",
      "add edge 838 300\n"
     ]
    },
    {
     "name": "stderr",
     "output_type": "stream",
     "text": [
      " 68%|██████▊   | 80/118 [18:49<11:02, 17.44s/it]"
     ]
    },
    {
     "name": "stdout",
     "output_type": "stream",
     "text": [
      "add edge 839 525\n",
      "add edge 839 809\n",
      "add edge 839 231\n",
      "add edge 839 323\n",
      "add edge 839 252\n"
     ]
    },
    {
     "name": "stderr",
     "output_type": "stream",
     "text": [
      " 69%|██████▊   | 81/118 [19:04<10:26, 16.94s/it]"
     ]
    },
    {
     "name": "stdout",
     "output_type": "stream",
     "text": [
      "add edge 840 515\n"
     ]
    },
    {
     "name": "stderr",
     "output_type": "stream",
     "text": [
      " 69%|██████▉   | 82/118 [19:13<08:43, 14.53s/it]"
     ]
    },
    {
     "name": "stdout",
     "output_type": "stream",
     "text": [
      "add edge 841 282\n",
      "add edge 841 282\n",
      "add edge 841 256\n",
      "add edge 841 256\n",
      "add edge 841 256\n"
     ]
    },
    {
     "name": "stderr",
     "output_type": "stream",
     "text": [
      " 70%|███████   | 83/118 [19:32<09:10, 15.73s/it]"
     ]
    },
    {
     "name": "stdout",
     "output_type": "stream",
     "text": [
      "add edge 842 809\n",
      "add edge 842 231\n",
      "add edge 842 252\n"
     ]
    },
    {
     "name": "stderr",
     "output_type": "stream",
     "text": [
      " 71%|███████   | 84/118 [19:59<10:53, 19.21s/it]"
     ]
    },
    {
     "name": "stdout",
     "output_type": "stream",
     "text": [
      "add edge 843 335\n",
      "add edge 843 522\n",
      "add edge 843 522\n",
      "add edge 843 118\n"
     ]
    },
    {
     "name": "stderr",
     "output_type": "stream",
     "text": [
      " 72%|███████▏  | 85/118 [20:16<10:15, 18.64s/it]"
     ]
    },
    {
     "name": "stdout",
     "output_type": "stream",
     "text": [
      "'answer'\n"
     ]
    },
    {
     "name": "stderr",
     "output_type": "stream",
     "text": [
      " 73%|███████▎  | 86/118 [20:24<08:15, 15.48s/it]"
     ]
    },
    {
     "name": "stdout",
     "output_type": "stream",
     "text": [
      "add edge 845 809\n",
      "add edge 845 231\n",
      "add edge 845 323\n",
      "add edge 845 252\n"
     ]
    },
    {
     "name": "stderr",
     "output_type": "stream",
     "text": [
      " 74%|███████▎  | 87/118 [20:41<08:10, 15.81s/it]"
     ]
    },
    {
     "name": "stdout",
     "output_type": "stream",
     "text": [
      "add edge 846 323\n",
      "add edge 846 252\n"
     ]
    },
    {
     "name": "stderr",
     "output_type": "stream",
     "text": [
      " 75%|███████▍  | 88/118 [21:21<11:34, 23.17s/it]"
     ]
    },
    {
     "name": "stdout",
     "output_type": "stream",
     "text": [
      "add edge 334 461\n",
      "add edge 334 282\n",
      "add edge 334 300\n",
      "add edge 334 335\n"
     ]
    },
    {
     "name": "stderr",
     "output_type": "stream",
     "text": [
      " 75%|███████▌  | 89/118 [21:32<09:19, 19.28s/it]"
     ]
    },
    {
     "name": "stdout",
     "output_type": "stream",
     "text": [
      "add edge 847 282\n",
      "add edge 847 522\n",
      "add edge 847 256\n",
      "add edge 847 256\n",
      "add edge 847 256\n"
     ]
    },
    {
     "name": "stderr",
     "output_type": "stream",
     "text": [
      " 76%|███████▋  | 90/118 [21:44<08:00, 17.16s/it]"
     ]
    },
    {
     "name": "stdout",
     "output_type": "stream",
     "text": [
      "add edge 850 525\n",
      "add edge 850 809\n",
      "add edge 850 231\n",
      "add edge 850 323\n"
     ]
    },
    {
     "name": "stderr",
     "output_type": "stream",
     "text": [
      " 77%|███████▋  | 91/118 [21:59<07:23, 16.42s/it]"
     ]
    },
    {
     "name": "stdout",
     "output_type": "stream",
     "text": [
      "add edge 851 282\n",
      "add edge 851 275\n",
      "add edge 851 282\n"
     ]
    },
    {
     "name": "stderr",
     "output_type": "stream",
     "text": [
      " 78%|███████▊  | 92/118 [22:17<07:20, 16.94s/it]"
     ]
    },
    {
     "name": "stdout",
     "output_type": "stream",
     "text": [
      "add edge 853 461\n",
      "add edge 853 300\n"
     ]
    },
    {
     "name": "stderr",
     "output_type": "stream",
     "text": [
      " 79%|███████▉  | 93/118 [22:28<06:18, 15.13s/it]"
     ]
    },
    {
     "name": "stdout",
     "output_type": "stream",
     "text": [
      "add edge 848 525\n",
      "add edge 848 809\n",
      "add edge 848 323\n"
     ]
    },
    {
     "name": "stderr",
     "output_type": "stream",
     "text": [
      " 80%|███████▉  | 94/118 [22:40<05:42, 14.27s/it]"
     ]
    },
    {
     "name": "stdout",
     "output_type": "stream",
     "text": [
      "add edge 852 522\n",
      "add edge 852 256\n",
      "add edge 852 256\n",
      "add edge 852 256\n"
     ]
    },
    {
     "name": "stderr",
     "output_type": "stream",
     "text": [
      " 81%|████████  | 95/118 [22:58<05:57, 15.54s/it]"
     ]
    },
    {
     "name": "stdout",
     "output_type": "stream",
     "text": [
      "add edge 343 522\n",
      "add edge 343 282\n",
      "add edge 343 256\n"
     ]
    },
    {
     "name": "stderr",
     "output_type": "stream",
     "text": [
      " 81%|████████▏ | 96/118 [23:23<06:39, 18.15s/it]"
     ]
    },
    {
     "name": "stdout",
     "output_type": "stream",
     "text": [
      "add edge 849 525\n",
      "add edge 849 231\n",
      "add edge 849 323\n"
     ]
    },
    {
     "name": "stderr",
     "output_type": "stream",
     "text": [
      " 82%|████████▏ | 97/118 [23:35<05:44, 16.42s/it]"
     ]
    },
    {
     "name": "stdout",
     "output_type": "stream",
     "text": [
      "add edge 371 515\n",
      "add edge 371 522\n",
      "add edge 371 810\n",
      "add edge 371 226\n"
     ]
    },
    {
     "name": "stderr",
     "output_type": "stream",
     "text": [
      " 83%|████████▎ | 98/118 [23:43<04:38, 13.91s/it]"
     ]
    },
    {
     "name": "stdout",
     "output_type": "stream",
     "text": [
      "add edge 373 515\n",
      "add edge 373 282\n",
      "add edge 373 226\n"
     ]
    },
    {
     "name": "stderr",
     "output_type": "stream",
     "text": [
      " 84%|████████▍ | 99/118 [23:58<04:28, 14.15s/it]"
     ]
    },
    {
     "name": "stdout",
     "output_type": "stream",
     "text": [
      "add edge 379 461\n"
     ]
    },
    {
     "name": "stderr",
     "output_type": "stream",
     "text": [
      " 85%|████████▍ | 100/118 [24:08<03:54, 13.00s/it]"
     ]
    },
    {
     "name": "stdout",
     "output_type": "stream",
     "text": [
      "add edge 385 515\n"
     ]
    },
    {
     "name": "stderr",
     "output_type": "stream",
     "text": [
      " 86%|████████▌ | 101/118 [24:17<03:20, 11.79s/it]"
     ]
    },
    {
     "name": "stdout",
     "output_type": "stream",
     "text": [
      "add edge 403 275\n",
      "add edge 403 809\n",
      "add edge 403 522\n",
      "add edge 403 256\n"
     ]
    },
    {
     "name": "stderr",
     "output_type": "stream",
     "text": [
      " 86%|████████▋ | 102/118 [24:32<03:21, 12.62s/it]"
     ]
    },
    {
     "name": "stdout",
     "output_type": "stream",
     "text": [
      "add edge 408 282\n",
      "add edge 408 522\n",
      "add edge 408 810\n",
      "add edge 408 300\n"
     ]
    },
    {
     "name": "stderr",
     "output_type": "stream",
     "text": [
      " 87%|████████▋ | 103/118 [24:49<03:31, 14.12s/it]"
     ]
    },
    {
     "name": "stdout",
     "output_type": "stream",
     "text": [
      "add edge 411 282\n",
      "add edge 411 282\n",
      "add edge 411 256\n",
      "add edge 411 256\n",
      "add edge 411 256\n"
     ]
    },
    {
     "name": "stderr",
     "output_type": "stream",
     "text": [
      " 88%|████████▊ | 104/118 [25:11<03:51, 16.53s/it]"
     ]
    },
    {
     "name": "stdout",
     "output_type": "stream",
     "text": [
      "add edge 936 525\n",
      "add edge 936 809\n",
      "add edge 936 231\n",
      "add edge 936 323\n",
      "add edge 936 252\n"
     ]
    },
    {
     "name": "stderr",
     "output_type": "stream",
     "text": [
      " 89%|████████▉ | 105/118 [25:20<03:03, 14.12s/it]"
     ]
    },
    {
     "name": "stdout",
     "output_type": "stream",
     "text": [
      "add edge 937 809\n",
      "add edge 937 231\n",
      "add edge 937 252\n"
     ]
    },
    {
     "name": "stderr",
     "output_type": "stream",
     "text": [
      " 90%|████████▉ | 106/118 [25:52<03:55, 19.64s/it]"
     ]
    },
    {
     "name": "stdout",
     "output_type": "stream",
     "text": [
      "'answer'\n"
     ]
    },
    {
     "name": "stderr",
     "output_type": "stream",
     "text": [
      " 91%|█████████ | 107/118 [25:59<02:51, 15.59s/it]"
     ]
    },
    {
     "name": "stdout",
     "output_type": "stream",
     "text": [
      "add edge 939 525\n",
      "add edge 939 231\n",
      "add edge 939 252\n"
     ]
    },
    {
     "name": "stderr",
     "output_type": "stream",
     "text": [
      " 92%|█████████▏| 108/118 [26:14<02:34, 15.47s/it]"
     ]
    },
    {
     "name": "stdout",
     "output_type": "stream",
     "text": [
      "add edge 430 522\n",
      "add edge 430 282\n",
      "add edge 430 300\n",
      "add edge 430 282\n"
     ]
    },
    {
     "name": "stderr",
     "output_type": "stream",
     "text": [
      " 92%|█████████▏| 109/118 [26:21<01:57, 13.11s/it]"
     ]
    },
    {
     "name": "stdout",
     "output_type": "stream",
     "text": [
      "add edge 433 515\n"
     ]
    },
    {
     "name": "stderr",
     "output_type": "stream",
     "text": [
      " 93%|█████████▎| 110/118 [26:36<01:48, 13.56s/it]"
     ]
    },
    {
     "name": "stdout",
     "output_type": "stream",
     "text": [
      "add edge 450 515\n",
      "add edge 450 522\n",
      "add edge 450 810\n"
     ]
    },
    {
     "name": "stderr",
     "output_type": "stream",
     "text": [
      " 94%|█████████▍| 111/118 [26:53<01:41, 14.51s/it]"
     ]
    },
    {
     "name": "stdout",
     "output_type": "stream",
     "text": [
      "add edge 460 282\n",
      "add edge 460 256\n",
      "add edge 460 522\n"
     ]
    },
    {
     "name": "stderr",
     "output_type": "stream",
     "text": [
      " 95%|█████████▍| 112/118 [27:00<01:14, 12.42s/it]"
     ]
    },
    {
     "name": "stdout",
     "output_type": "stream",
     "text": [
      "add edge 469 256\n",
      "add edge 469 300\n",
      "add edge 469 300\n",
      "add edge 469 300\n"
     ]
    },
    {
     "name": "stderr",
     "output_type": "stream",
     "text": [
      " 96%|█████████▌| 113/118 [27:19<01:11, 14.36s/it]"
     ]
    },
    {
     "name": "stdout",
     "output_type": "stream",
     "text": [
      "add edge 470 282\n",
      "add edge 470 515\n",
      "add edge 470 300\n",
      "add edge 470 275\n"
     ]
    },
    {
     "name": "stderr",
     "output_type": "stream",
     "text": [
      " 97%|█████████▋| 114/118 [27:25<00:47, 11.87s/it]"
     ]
    },
    {
     "name": "stdout",
     "output_type": "stream",
     "text": [
      "add edge 482 256\n",
      "add edge 482 282\n",
      "add edge 482 300\n"
     ]
    },
    {
     "name": "stderr",
     "output_type": "stream",
     "text": [
      " 97%|█████████▋| 115/118 [27:45<00:43, 14.41s/it]"
     ]
    },
    {
     "name": "stdout",
     "output_type": "stream",
     "text": [
      "add edge 484 282\n",
      "add edge 484 282\n",
      "add edge 484 256\n"
     ]
    },
    {
     "name": "stderr",
     "output_type": "stream",
     "text": [
      " 98%|█████████▊| 116/118 [27:57<00:26, 13.50s/it]"
     ]
    },
    {
     "name": "stdout",
     "output_type": "stream",
     "text": [
      "add edge 485 282\n",
      "add edge 485 515\n",
      "add edge 485 522\n",
      "add edge 485 256\n"
     ]
    },
    {
     "name": "stderr",
     "output_type": "stream",
     "text": [
      " 99%|█████████▉| 117/118 [28:09<00:13, 13.16s/it]"
     ]
    },
    {
     "name": "stdout",
     "output_type": "stream",
     "text": [
      "add edge 499 522\n",
      "add edge 499 282\n",
      "add edge 499 300\n",
      "add edge 499 282\n"
     ]
    },
    {
     "name": "stderr",
     "output_type": "stream",
     "text": [
      "100%|██████████| 118/118 [28:25<00:00, 14.46s/it]"
     ]
    },
    {
     "name": "stdout",
     "output_type": "stream",
     "text": [
      "'answer'\n"
     ]
    },
    {
     "name": "stderr",
     "output_type": "stream",
     "text": [
      "\n"
     ]
    }
   ],
   "source": [
    "test_graph = model.predict_links(test_graph, new_nodes, file_name=f\"new_graph_{period}.pkl\")"
   ]
  },
  {
   "cell_type": "markdown",
   "metadata": {},
   "source": [
    "# Re-predict the isolated nodes"
   ]
  },
  {
   "cell_type": "code",
   "execution_count": 39,
   "metadata": {},
   "outputs": [
    {
     "name": "stdout",
     "output_type": "stream",
     "text": [
      "2\n"
     ]
    }
   ],
   "source": [
    "issolated_nodes = new_model.get_isolated_nodes()\n",
    "print(len(issolated_nodes))"
   ]
  },
  {
   "cell_type": "markdown",
   "metadata": {},
   "source": [
    "### if len(issolated_nodes) > 0"
   ]
  },
  {
   "cell_type": "code",
   "execution_count": 40,
   "metadata": {},
   "outputs": [
    {
     "name": "stderr",
     "output_type": "stream",
     "text": [
      " 50%|█████     | 1/2 [00:20<00:20, 20.41s/it]"
     ]
    },
    {
     "name": "stdout",
     "output_type": "stream",
     "text": [
      "add edge 835 522\n",
      "add edge 835 282\n",
      "add edge 835 300\n",
      "add edge 835 300\n"
     ]
    },
    {
     "name": "stderr",
     "output_type": "stream",
     "text": [
      "100%|██████████| 2/2 [00:42<00:00, 21.16s/it]"
     ]
    },
    {
     "name": "stdout",
     "output_type": "stream",
     "text": [
      "add edge 724 256\n",
      "add edge 724 282\n",
      "add edge 724 515\n",
      "add edge 724 300\n"
     ]
    },
    {
     "name": "stderr",
     "output_type": "stream",
     "text": [
      "\n"
     ]
    }
   ],
   "source": [
    "test_graph = new_model.graph.copy()\n",
    "test_graph = model.predict_links(test_graph, issolated_nodes,file_name=f\"new_graph_{period}.pkl\")"
   ]
  },
  {
   "cell_type": "code",
   "execution_count": 41,
   "metadata": {},
   "outputs": [
    {
     "name": "stdout",
     "output_type": "stream",
     "text": [
      "0\n"
     ]
    }
   ],
   "source": [
    "new_model = ChoiceModel(graph_path=f\"new_graph_{period}.pkl\")\n",
    "\n",
    "issolated_nodes = new_model.get_isolated_nodes()\n",
    "print(len(issolated_nodes))\n",
    "\n",
    "#if isolated nodes stil exist, remove them\n",
    "new_model.remove_isolated_nodes()\n",
    "new_model.visualize(file_name=f\"new_graph_{period}.html\")"
   ]
  },
  {
   "cell_type": "markdown",
   "metadata": {},
   "source": [
    "# Evaluate"
   ]
  },
  {
   "cell_type": "code",
   "execution_count": 44,
   "metadata": {},
   "outputs": [
    {
     "name": "stdout",
     "output_type": "stream",
     "text": [
      "period:  2\n",
      "OLD_PPI: 0.34454789123651813  OLD_CVI:  4.083333333333333 OLD_DCI:  0.7346938775510204\n",
      "PREV_PPI: 0.5884246031746032  PREV_CVI:  3.57 PREV_DCI:  0.5602240896358541\n",
      "Old_DCI: 0.6083953634085213 DCI:  3.65 NEX_DCI:  0.5479452054794519\n"
     ]
    }
   ],
   "source": [
    "model.roll_back(period)\n",
    "prev_model = ChoiceModel(graph_path=f\"new_graph_{period-1}.pkl\")\n",
    "OLD_PPI, OLD_CVI, OLD_DCI = model.evaluate()\n",
    "PREV_PPI, PREV_CVI, PREV_DCI = prev_model.evaluate()\n",
    "NEXT_PPI, NEXT_CVI, NEXT_DCI = new_model.evaluate(test_graph)\n",
    "print(\"period: \",period)\n",
    "print(\"OLD_PPI:\",OLD_PPI,\" OLD_CVI: \", OLD_CVI, \"OLD_DCI: \", OLD_DCI)\n",
    "print(\"PREV_PPI:\",PREV_PPI,\" PREV_CVI: \", PREV_CVI, \"PREV_DCI: \", PREV_DCI)\n",
    "print(\"Old_DCI:\",NEXT_PPI,\"DCI: \",  NEXT_CVI, \"NEX_DCI: \", NEXT_DCI)"
   ]
  },
  {
   "cell_type": "code",
   "execution_count": null,
   "metadata": {},
   "outputs": [],
   "source": []
  }
 ],
 "metadata": {
  "kernelspec": {
   "display_name": "pytorch",
   "language": "python",
   "name": "python3"
  },
  "language_info": {
   "codemirror_mode": {
    "name": "ipython",
    "version": 3
   },
   "file_extension": ".py",
   "mimetype": "text/x-python",
   "name": "python",
   "nbconvert_exporter": "python",
   "pygments_lexer": "ipython3",
   "version": "3.8.18"
  }
 },
 "nbformat": 4,
 "nbformat_minor": 2
}
