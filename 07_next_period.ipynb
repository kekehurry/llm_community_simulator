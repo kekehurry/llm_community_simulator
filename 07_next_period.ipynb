{
 "cells": [
  {
   "cell_type": "code",
   "execution_count": 2,
   "metadata": {},
   "outputs": [],
   "source": [
    "from choice_model import ChoiceModel\n",
    "import networkx as nx\n"
   ]
  },
  {
   "cell_type": "code",
   "execution_count": null,
   "metadata": {},
   "outputs": [],
   "source": [
    "model = ChoiceModel()\n",
    "new_model = ChoiceModel(graph_path='your_new_graph_path') \n",
    "period = 2  "
   ]
  },
  {
   "cell_type": "code",
   "execution_count": null,
   "metadata": {},
   "outputs": [],
   "source": [
    "# get all nodes in certain period \n",
    "graph = model.get_period(period)\n",
    "new_nodes = [n for n in graph.nodes if n not in list(new_model.graph.nodes)]\n",
    "new_nodes = [n for n in new_nodes if graph.nodes[n]['type'] != 'Long-term Project']\n",
    "actor_ndoes = [n for n in graph.nodes if graph.nodes[n]['type'] == 'Actors']\n",
    "other_nodes = [n for n in graph.nodes if graph.nodes[n]['type'] != 'Actors']\n",
    "print(\"number of nodes: \",len(new_nodes))\n",
    "print(\"number of actors: \", len(actor_ndoes))\n",
    "print(\"number of other nodes: \",len(other_nodes))"
   ]
  },
  {
   "cell_type": "code",
   "execution_count": null,
   "metadata": {},
   "outputs": [],
   "source": [
    "test_graph = new_model.graph.copy()"
   ]
  },
  {
   "cell_type": "code",
   "execution_count": null,
   "metadata": {},
   "outputs": [],
   "source": [
    "# add each node to the test_graph\n",
    "\n",
    "from tqdm import tqdm\n",
    "import pickle\n",
    "import pandas as pd\n",
    "import numpy as np\n",
    "\n",
    "# use all history data as reference to predict\n",
    "model.roll_back(9)\n",
    "data_df = pd.DataFrame(columns=['node', 'profile', 'choices', 'new_options','llm_choice', 'llm_response'])\n",
    "for node in tqdm(new_nodes):\n",
    "    try:\n",
    "        profile = model.graph.nodes[node]['properties']\n",
    "        node_type = model.graph.nodes[node]['type']\n",
    "        test_options = list(test_graph.nodes)\n",
    "        test_graph.add_node(node, type=node_type, properties=profile, embedding=model.embed_model.embed_query(str(profile)))\n",
    "        old_context,choices = model.get_old_context(profile=profile, node_type=node_type, k1=10,k2=5, top_k=5)\n",
    "        choices = [ c['properties'] for c in choices]\n",
    "        # find most silimar options to choices\n",
    "        index = model._build_index(test_graph)\n",
    "        link_options = []\n",
    "        for choice in choices:\n",
    "            query_embed = model.embed_model.embed_query(str(choice))\n",
    "            query_embed = np.array(query_embed).reshape(1,-1)\n",
    "            d, i = index['index'].search(query_embed, 1)\n",
    "            similar_nodes = index['ids'][i][0]\n",
    "            link_options.extend(similar_nodes.tolist())\n",
    "        new_options = [test_graph.nodes[n]['properties'] for n in link_options]\n",
    "        # ask llm to predict links\n",
    "        llm_choice, llm_response = model.get_llm_choice(profile=profile, new_options=new_options, old_context=old_context, k1=10, k2=5, node_type=node_type,top_k=5)\n",
    "        # add edges\n",
    "        llm_answer = llm_choice['answer']\n",
    "        for answer,id in zip(llm_answer, link_options):\n",
    "             if answer=='Yes':\n",
    "                print(\"add edge\", node, id)\n",
    "                test_graph.add_edge(node, id)\n",
    "        data_df.loc[len(data_df)] = [node, profile, choices, new_options,llm_choice, llm_response]\n",
    "        if len(data_df) % 50 == 0:\n",
    "            data_df.to_csv(f'with_llm_period_{period}.csv')\n",
    "            with open(f\"with_llm_period_{period}.pkl\", \"wb\") as f:\n",
    "                pickle.dump(test_graph, f)\n",
    "    except Exception as e:\n",
    "        print(e)\n",
    "        pass\n",
    "\n",
    "data_df.to_csv(f'with_llm_period_{period}.csv')\n",
    "# save the embeded graph\n",
    "with open(\"with_llm_period_{period}.pkl\", \"wb\") as f:\n",
    "    pickle.dump(test_graph, f)\n"
   ]
  },
  {
   "cell_type": "code",
   "execution_count": null,
   "metadata": {},
   "outputs": [],
   "source": [
    "PPI, CVI, DCI = new_model.evaluate(test_graph)\n",
    "print(\"PPI: \", PPI)\n",
    "print(\"CVI: \", CVI)\n",
    "print(\"DCI: \", DCI)"
   ]
  }
 ],
 "metadata": {
  "kernelspec": {
   "display_name": "pytorch",
   "language": "python",
   "name": "python3"
  },
  "language_info": {
   "codemirror_mode": {
    "name": "ipython",
    "version": 3
   },
   "file_extension": ".py",
   "mimetype": "text/x-python",
   "name": "python",
   "nbconvert_exporter": "python",
   "pygments_lexer": "ipython3",
   "version": "3.8.18"
  }
 },
 "nbformat": 4,
 "nbformat_minor": 2
}
