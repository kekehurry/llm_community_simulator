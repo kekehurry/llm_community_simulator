{
 "cells": [
  {
   "cell_type": "code",
   "execution_count": null,
   "metadata": {},
   "outputs": [],
   "source": [
    "from choice_model import ChoiceModel\n",
    "import pandas as pd\n",
    "import numpy as np\n",
    "import matplotlib.pyplot as plt"
   ]
  },
  {
   "cell_type": "code",
   "execution_count": null,
   "metadata": {},
   "outputs": [],
   "source": [
    "old_model = ChoiceModel()"
   ]
  },
  {
   "cell_type": "code",
   "execution_count": null,
   "metadata": {},
   "outputs": [],
   "source": [
    "data = pd.DataFrame(columns=['series','period','PPI','CVI','DCI','NUM'])"
   ]
  },
  {
   "cell_type": "code",
   "execution_count": null,
   "metadata": {},
   "outputs": [],
   "source": [
    "series = 'old_data'\n",
    "for period in range(1,10):\n",
    "    old_model.roll_back(period)\n",
    "    PPI,CVI,DCI = old_model.evaluate()\n",
    "    num = len(list(old_model.graph.nodes))\n",
    "    data .loc[len(data )] = [series,period,PPI,CVI,DCI,num]\n",
    "    old_model.visualize(file_name=f\"old_graph/period_{period}.html\")"
   ]
  },
  {
   "cell_type": "code",
   "execution_count": null,
   "metadata": {},
   "outputs": [],
   "source": [
    "series = 'sim_data'\n",
    "for period in range(1,10):\n",
    "    file = f'{series}/{series}_{period}.pkl'\n",
    "    new_model = ChoiceModel(graph_path=file) \n",
    "    num = len(list(new_model.graph.nodes))\n",
    "    PPI,CVI,DCI = new_model.evaluate()\n",
    "    data.loc[len(data)] = [series,period,PPI,CVI,DCI,num]"
   ]
  },
  {
   "cell_type": "code",
   "execution_count": null,
   "metadata": {
    "editable": true,
    "slideshow": {
     "slide_type": ""
    },
    "tags": []
   },
   "outputs": [],
   "source": [
    "series = 'remove_long_term_project'\n",
    "for period in range(1,10):\n",
    "    file = f'{series}/{series}_{period}.pkl'\n",
    "    new_model = ChoiceModel(graph_path=file) \n",
    "    num = len(list(new_model.graph.nodes))\n",
    "    PPI,CVI,DCI = new_model.evaluate()\n",
    "    data.loc[len(data)] = [series,period,PPI,CVI,DCI,num]\n",
    "data"
   ]
  },
  {
   "cell_type": "code",
   "execution_count": null,
   "metadata": {},
   "outputs": [],
   "source": [
    "import matplotlib.pyplot as plt\n",
    "import seaborn as sns\n",
    "\n",
    "\n",
    "fig, ax = plt.subplots(1, 3, figsize=(20, 4))\n",
    "\n",
    "# Plot the data with legends enabled temporarily\n",
    "line1 = sns.lineplot(data=data, x='period', y='PPI', hue='series', ax=ax[0], palette=sns.color_palette(\"rocket_r\")[:3])\n",
    "line2 = sns.lineplot(data=data, x='period', y='CVI', hue='series', ax=ax[1], palette=sns.color_palette(\"rocket_r\")[:3])\n",
    "line3 = sns.lineplot(data=data, x='period', y='DCI', hue='series', ax=ax[2], palette=sns.color_palette(\"rocket_r\")[:3])\n",
    "\n",
    "# Get handles and labels from the first plot\n",
    "handles, labels = line1.get_legend_handles_labels()\n",
    "\n",
    "# Turn off individual legends\n",
    "ax[0].legend().remove()\n",
    "ax[1].legend().remove()\n",
    "ax[2].legend().remove()\n",
    "\n",
    "# Add a single legend\n",
    "fig.legend(handles, labels, loc='upper center', ncol=len(labels), bbox_to_anchor=(0.5, -0.01))\n",
    "\n",
    "plt.show()"
   ]
  },
  {
   "cell_type": "code",
   "execution_count": null,
   "metadata": {},
   "outputs": [],
   "source": []
  }
 ],
 "metadata": {
  "kernelspec": {
   "display_name": "Python 3 (ipykernel)",
   "language": "python",
   "name": "python3"
  },
  "language_info": {
   "codemirror_mode": {
    "name": "ipython",
    "version": 3
   },
   "file_extension": ".py",
   "mimetype": "text/x-python",
   "name": "python",
   "nbconvert_exporter": "python",
   "pygments_lexer": "ipython3",
   "version": "3.11.9"
  }
 },
 "nbformat": 4,
 "nbformat_minor": 4
}
