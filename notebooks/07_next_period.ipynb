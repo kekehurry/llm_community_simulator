{
 "cells": [
  {
   "cell_type": "code",
   "execution_count": 6,
   "metadata": {},
   "outputs": [],
   "source": [
    "from choice_model import ChoiceModel\n",
    "period = 1\n",
    "model = ChoiceModel()\n",
    "prev_period_file = f'new_graph/new_graph_{period-1}.pkl'\n",
    "new_model = ChoiceModel(graph_path=prev_period_file)"
   ]
  },
  {
   "cell_type": "markdown",
   "metadata": {},
   "source": [
    "# Overview of previous period\n"
   ]
  },
  {
   "cell_type": "code",
   "execution_count": 7,
   "metadata": {},
   "outputs": [
    {
     "name": "stdout",
     "output_type": "stream",
     "text": [
      "Old_PPI: 0.3242945775964644  PPI:  0.31012110726643594\n",
      "Old_CVI: 3.30188679245283  CVI:  2.843137254901961\n",
      "Old_DCI: 0.08108108108108109 DCI:  0.058823529411764705\n"
     ]
    }
   ],
   "source": [
    "model.roll_back(period-1)\n",
    "Old_PPI, Old_CVI, Old_DCI = model.evaluate()\n",
    "PPI, CVI, DCI = new_model.evaluate()\n",
    "print(\"Old_PPI:\", Old_PPI, \" PPI: \", PPI)\n",
    "print(\"Old_CVI:\", Old_CVI, \" CVI: \", CVI)\n",
    "print(\"Old_DCI:\", Old_DCI, \"DCI: \", DCI)"
   ]
  },
  {
   "cell_type": "markdown",
   "metadata": {},
   "source": [
    "# Simulate Period\n"
   ]
  },
  {
   "cell_type": "code",
   "execution_count": 3,
   "metadata": {},
   "outputs": [
    {
     "name": "stdout",
     "output_type": "stream",
     "text": [
      "period:  4\n",
      "number of nodes:  80\n",
      "number of actors:  66\n",
      "number of other nodes:  67\n"
     ]
    }
   ],
   "source": [
    "# get all nodes in certain period\n",
    "graph = model.get_period(period)\n",
    "new_nodes = [n for n in graph.nodes if n not in list(new_model.graph.nodes)]\n",
    "new_nodes = [n for n in new_nodes if graph.nodes[n]\n",
    "             ['type'] != 'Long-term Project']\n",
    "actor_ndoes = [n for n in graph.nodes if graph.nodes[n]['type'] == 'Actors']\n",
    "other_nodes = [n for n in graph.nodes if graph.nodes[n]['type'] != 'Actors']\n",
    "print(\"period: \", period)\n",
    "print(\"number of nodes: \", len(new_nodes))\n",
    "print(\"number of actors: \", len(actor_ndoes))\n",
    "print(\"number of other nodes: \", len(other_nodes))"
   ]
  },
  {
   "cell_type": "code",
   "execution_count": 4,
   "metadata": {},
   "outputs": [],
   "source": [
    "test_graph = new_model.graph.copy()\n",
    "# for a totally new environemnt create an empty graph\n",
    "# import networkx as nx\n",
    "# test_graph = nx.DiGraph()"
   ]
  },
  {
   "cell_type": "code",
   "execution_count": 5,
   "metadata": {},
   "outputs": [
    {
     "name": "stderr",
     "output_type": "stream",
     "text": [
      "  4%|▍         | 3/80 [00:00<00:03, 20.74it/s]"
     ]
    },
    {
     "name": "stdout",
     "output_type": "stream",
     "text": [
      "add node 1024 {'eventtopic': 'Community And Organization'}\n",
      "add node 513 {'age': '18-35', 'gender': 'Male', 'marrige': 'No', 'withkids': 'No', 'student': 'No', 'workstatue': 'Employed', 'residentinneighbor': 'No', 'educationlevel': 'Undergraduate'}\n",
      "add node 1026 {'age': '35-55', 'gender': 'Female', 'marrige': 'No', 'withkids': 'No', 'student': 'No', 'workstatue': 'Employed', 'residentinneighbor': 'No', 'educationlevel': 'Undergraduate'}\n",
      "add node 1 {'eventtopic': 'Community And Organization'}\n",
      "add node 514 {'age': '18-35', 'gender': 'Male', 'marrige': 'No', 'withkids': 'No', 'student': 'No', 'workstatue': 'Self-employed', 'residentinneighbor': 'No', 'educationlevel': 'Graduate'}\n",
      "add node 1045 {'eventtopic': 'Community And Organization'}\n",
      "add node 1048 {'eventtopic': 'Technology And Education'}\n"
     ]
    },
    {
     "name": "stderr",
     "output_type": "stream",
     "text": [
      " 19%|█▉        | 15/80 [00:00<00:01, 47.77it/s]"
     ]
    },
    {
     "name": "stdout",
     "output_type": "stream",
     "text": [
      "add node 1050 {'eventtopic': 'Technology And Education'}\n",
      "add node 548 {'age': '18-35', 'gender': 'Male', 'marrige': 'No', 'withkids': 'No', 'student': 'Yes', 'workstatue': 'Freelancer', 'residentinneighbor': 'No', 'educationlevel': 'Undergraduate'}\n",
      "add node 39 {'eventtopic': 'Technology And Education'}\n",
      "add node 36 {'eventtopic': 'Technology And Education'}\n",
      "add node 43 {'age': '35-55', 'gender': 'Female', 'marrige': 'No', 'withkids': 'No', 'student': 'No', 'workstatue': 'Self-employed', 'residentinneighbor': 'No', 'educationlevel': 'Undergraduate'}\n",
      "add node 587 {'eventtopic': 'Technology And Education'}\n",
      "add node 600 {'eventtopic': 'Culture And Arts'}\n",
      "add node 620 {'age': '18-35', 'gender': 'Male', 'marrige': 'No', 'withkids': 'No', 'student': 'No', 'workstatue': 'Self-employed', 'residentinneighbor': 'No', 'educationlevel': 'Graduate'}\n",
      "add node 110 {'eventtopic': 'Technology And Education'}\n",
      "add node 622 {'age': '18-35', 'gender': 'Male', 'marrige': 'No', 'withkids': 'No', 'student': 'No', 'workstatue': 'Employed', 'residentinneighbor': 'No', 'educationlevel': 'Graduate'}\n",
      "add node 625 {'age': '35-55', 'gender': 'Female', 'marrige': 'No', 'withkids': 'No', 'student': 'No', 'workstatue': 'Self-employed', 'residentinneighbor': 'No', 'educationlevel': 'Undergraduate'}\n",
      "add node 650 {'eventtopic': 'Technology And Education'}\n"
     ]
    },
    {
     "name": "stderr",
     "output_type": "stream",
     "text": [
      " 35%|███▌      | 28/80 [00:00<00:01, 51.28it/s]"
     ]
    },
    {
     "name": "stdout",
     "output_type": "stream",
     "text": [
      "add node 662 {'eventtopic': 'Technology And Education'}\n",
      "add node 158 {'eventtopic': 'Culture And Arts'}\n",
      "add node 176 {'age': '18-35', 'gender': 'Male', 'marrige': 'No', 'withkids': 'No', 'student': 'Yes', 'workstatue': 'Freelancer', 'residentinneighbor': 'No', 'educationlevel': 'Undergraduate'}\n",
      "add node 180 {'age': '18-35', 'gender': 'Female', 'marrige': 'No', 'withkids': 'No', 'student': 'Yes', 'workstatue': 'Freelancer', 'residentinneighbor': 'No', 'educationlevel': 'Undergraduate'}\n",
      "add node 182 {'age': '18-35', 'gender': 'Male', 'marrige': 'No', 'withkids': 'No', 'student': 'Yes', 'workstatue': 'Freelancer', 'residentinneighbor': 'Yes', 'educationlevel': 'Graduate'}\n",
      "add node 184 {'age': '18-35', 'gender': 'Female', 'marrige': 'No', 'withkids': 'No', 'student': 'No', 'workstatue': 'Freelancer', 'residentinneighbor': 'No', 'educationlevel': 'Undergraduate'}\n",
      "add node 195 {'age': '18-35', 'gender': 'Male', 'marrige': 'No', 'withkids': 'No', 'student': 'Yes', 'workstatue': 'Freelancer', 'residentinneighbor': 'No', 'educationlevel': 'Graduate'}\n",
      "add node 710 {'age': '35-55', 'gender': 'Male', 'marrige': 'Yes', 'withkids': 'No', 'student': 'No', 'workstatue': 'Employed', 'residentinneighbor': 'No', 'educationlevel': 'Undergraduate'}\n",
      "add node 236 {'age': '18-35', 'gender': 'Male', 'marrige': 'No', 'withkids': 'No', 'student': 'Yes', 'workstatue': 'Freelancer', 'residentinneighbor': 'No', 'educationlevel': 'Graduate'}\n",
      "add node 250 {'age': '35-55', 'gender': 'Male', 'marrige': 'Yes', 'withkids': 'No', 'student': 'No', 'workstatue': 'Employed', 'residentinneighbor': 'No', 'educationlevel': 'Graduate'}\n",
      "add node 792 {'age': '18-35', 'gender': 'Female', 'marrige': 'No', 'withkids': 'No', 'student': 'No', 'workstatue': 'Employed', 'residentinneighbor': 'No', 'educationlevel': 'Undergraduate'}\n"
     ]
    },
    {
     "name": "stderr",
     "output_type": "stream",
     "text": [
      " 51%|█████▏    | 41/80 [00:00<00:00, 57.03it/s]"
     ]
    },
    {
     "name": "stdout",
     "output_type": "stream",
     "text": [
      "add node 793 {'age': '18-35', 'gender': 'Female', 'marrige': 'No', 'withkids': 'No', 'student': 'No', 'workstatue': 'Employed', 'residentinneighbor': 'No', 'educationlevel': 'Undergraduate'}\n",
      "add node 794 {'age': '35-55', 'gender': 'Female', 'marrige': 'No', 'withkids': 'No', 'student': 'No', 'workstatue': 'Employed', 'residentinneighbor': 'No', 'educationlevel': 'Undergraduate'}\n",
      "add node 795 {'age': '18-35', 'gender': 'Male', 'marrige': 'No', 'withkids': 'No', 'student': 'No', 'workstatue': 'Employed', 'residentinneighbor': 'No', 'educationlevel': 'Undergraduate'}\n",
      "add node 796 {'eventtopic': 'Environment And Sustainability'}\n",
      "add node 797 {'eventtopic': 'Environment And Sustainability'}\n",
      "add node 798 {'age': '18-35', 'gender': 'Female', 'marrige': 'No', 'withkids': 'No', 'student': 'No', 'workstatue': 'Self-employed', 'residentinneighbor': 'No', 'educationlevel': 'Highschool'}\n",
      "add node 799 {'eventtopic': 'Culture And Arts'}\n",
      "add node 800 {'age': '18-35', 'gender': 'Male', 'marrige': 'No', 'withkids': 'No', 'student': 'No', 'workstatue': 'Employed', 'residentinneighbor': 'No', 'educationlevel': 'Graduate'}\n",
      "add node 331 {'age': '35-55', 'gender': 'Female', 'marrige': 'Yes', 'withkids': 'Yes', 'student': 'No', 'workstatue': 'Employed', 'residentinneighbor': 'No', 'educationlevel': 'Undergraduate'}\n",
      "add node 358 {'eventtopic': 'Community And Organization'}\n",
      "add node 874 {'age': '35-55', 'gender': 'Female', 'marrige': 'No', 'withkids': 'No', 'student': 'No', 'workstatue': 'Self-employed', 'residentinneighbor': 'No', 'educationlevel': 'Undergraduate'}\n",
      "add node 875 {'eventtopic': 'Community And Organization'}\n",
      "add node 877 {'age': '35-55', 'gender': 'Male', 'marrige': 'No', 'withkids': 'No', 'student': 'No', 'workstatue': 'Employed', 'residentinneighbor': 'No', 'educationlevel': 'Graduate'}\n"
     ]
    },
    {
     "name": "stderr",
     "output_type": "stream",
     "text": [
      " 66%|██████▋   | 53/80 [00:01<00:00, 56.82it/s]"
     ]
    },
    {
     "name": "stdout",
     "output_type": "stream",
     "text": [
      "add node 878 {'eventtopic': 'Community And Organization'}\n",
      "add node 879 {'eventtopic': 'Community And Organization'}\n",
      "add node 880 {'eventtopic': 'Culture And Arts'}\n",
      "add node 882 {'age': '35-55', 'gender': 'Male', 'marrige': 'Yes', 'withkids': 'No', 'student': 'No', 'workstatue': 'Employed', 'residentinneighbor': 'No', 'educationlevel': 'Graduate'}\n",
      "add node 883 {'eventtopic': 'Culture And Arts'}\n",
      "add node 884 {'age': '35-55', 'gender': 'Female', 'marrige': 'No', 'withkids': 'No', 'student': 'No', 'workstatue': 'Employed', 'residentinneighbor': 'No', 'educationlevel': 'Graduate'}\n",
      "add node 885 {'age': '35-55', 'gender': 'Male', 'marrige': 'No', 'withkids': 'No', 'student': 'No', 'workstatue': 'Employed', 'residentinneighbor': 'No', 'educationlevel': 'Undergraduate'}\n",
      "add node 886 {'eventtopic': 'Environment And Sustainability'}\n",
      "add node 881 {'age': '35-55', 'gender': 'Female', 'marrige': 'Yes', 'withkids': 'No', 'student': 'No', 'workstatue': 'Employed', 'residentinneighbor': 'No', 'educationlevel': 'Graduate'}\n",
      "add node 888 {'eventtopic': 'Environment And Sustainability'}\n",
      "add node 385 {'age': '35-55', 'gender': 'Male', 'marrige': 'Yes', 'withkids': 'Yes', 'student': 'No', 'workstatue': 'Freelancer', 'residentinneighbor': 'Yes', 'educationlevel': 'Undergraduate'}\n",
      "add node 393 {'eventtopic': 'Environment And Sustainability'}\n"
     ]
    },
    {
     "name": "stderr",
     "output_type": "stream",
     "text": [
      " 84%|████████▍ | 67/80 [00:01<00:00, 63.08it/s]"
     ]
    },
    {
     "name": "stdout",
     "output_type": "stream",
     "text": [
      "add node 951 {'eventtopic': 'Lifestyle And Health'}\n",
      "add node 952 {'eventtopic': 'Lifestyle And Health'}\n",
      "add node 953 {'eventtopic': 'Lifestyle And Health'}\n",
      "add node 954 {'eventtopic': 'Technology And Education'}\n",
      "add node 955 {'eventtopic': 'Technology And Education'}\n",
      "add node 956 {'eventtopic': 'Lifestyle And Health'}\n",
      "add node 957 {'age': '35-55', 'gender': 'Female', 'marrige': 'No', 'withkids': 'No', 'student': 'No', 'workstatue': 'Freelancer', 'residentinneighbor': 'No', 'educationlevel': 'Undergraduate'}\n",
      "add node 958 {'eventtopic': 'Environment And Sustainability'}\n",
      "add node 959 {'eventtopic': 'Environment And Sustainability'}\n",
      "add node 960 {'eventtopic': 'Culture And Arts'}\n",
      "add node 961 {'eventtopic': 'Technology And Education'}\n",
      "add node 962 {'eventtopic': 'Lifestyle And Health'}\n",
      "add node 963 {'eventtopic': 'Culture And Arts'}\n",
      "add node 964 {'eventtopic': 'Lifestyle And Health'}\n",
      "add node 965 {'age': '35-55', 'gender': 'Female', 'marrige': 'No', 'withkids': 'No', 'student': 'No', 'workstatue': 'Freelancer', 'residentinneighbor': 'No', 'educationlevel': 'Undergraduate'}\n"
     ]
    },
    {
     "name": "stderr",
     "output_type": "stream",
     "text": [
      "100%|██████████| 80/80 [00:01<00:00, 56.01it/s]"
     ]
    },
    {
     "name": "stdout",
     "output_type": "stream",
     "text": [
      "add node 459 {'age': '35-55', 'gender': 'Male', 'marrige': 'No', 'withkids': 'No', 'student': 'No', 'workstatue': 'Employed', 'residentinneighbor': 'No', 'educationlevel': 'Undergraduate'}\n",
      "add node 462 {'age': '35-55', 'gender': 'Male', 'marrige': 'No', 'withkids': 'No', 'student': 'No', 'workstatue': 'Freelancer', 'residentinneighbor': 'No', 'educationlevel': 'Undergraduate'}\n",
      "add node 477 {'age': '18-35', 'gender': 'Male', 'marrige': 'No', 'withkids': 'No', 'student': 'No', 'workstatue': 'Employed', 'residentinneighbor': 'No', 'educationlevel': 'Undergraduate'}\n",
      "add node 480 {'age': '18-35', 'gender': 'Male', 'marrige': 'No', 'withkids': 'No', 'student': 'No', 'workstatue': 'Employed', 'residentinneighbor': 'No', 'educationlevel': 'Graduate'}\n",
      "add node 483 {'eventtopic': 'Technology And Education'}\n",
      "add node 484 {'eventtopic': 'Technology And Education'}\n",
      "add node 485 {'age': '18-35', 'gender': 'Female', 'marrige': 'No', 'withkids': 'No', 'student': 'No', 'workstatue': 'Employed', 'residentinneighbor': 'No', 'educationlevel': 'Undergraduate'}\n",
      "add node 492 {'age': '35-55', 'gender': 'Male', 'marrige': 'No', 'withkids': 'No', 'student': 'Yes', 'workstatue': 'Freelancer', 'residentinneighbor': 'Yes', 'educationlevel': 'Undergraduate'}\n",
      "add node 1019 {'eventtopic': 'Lifestyle And Health'}\n",
      "add node 510 {'eventtopic': 'Community And Organization'}\n"
     ]
    },
    {
     "name": "stderr",
     "output_type": "stream",
     "text": [
      "\n"
     ]
    }
   ],
   "source": [
    "test_graph = model.predict_links(\n",
    "    test_graph, new_nodes, file_name=f\"new_graph/new_graph_{period}.pkl\")"
   ]
  },
  {
   "cell_type": "markdown",
   "metadata": {},
   "source": [
    "# Re-predict the isolated nodes\n"
   ]
  },
  {
   "cell_type": "code",
   "execution_count": null,
   "metadata": {},
   "outputs": [
    {
     "name": "stdout",
     "output_type": "stream",
     "text": [
      "0\n"
     ]
    }
   ],
   "source": [
    "new_model = ChoiceModel(graph_path=f\"new_graph/new_graph_{period}.pkl\")\n",
    "issolated_nodes = new_model.get_isolated_nodes()\n",
    "print(len(issolated_nodes))"
   ]
  },
  {
   "cell_type": "markdown",
   "metadata": {},
   "source": [
    "### if len(issolated_nodes) > 0\n"
   ]
  },
  {
   "cell_type": "code",
   "execution_count": null,
   "metadata": {},
   "outputs": [
    {
     "name": "stderr",
     "output_type": "stream",
     "text": [
      "0it [00:00, ?it/s]\n"
     ]
    }
   ],
   "source": [
    "test_graph = new_model.graph.copy()\n",
    "test_graph = model.predict_links(\n",
    "    test_graph, issolated_nodes, file_name=f\"new_graph_{period}.pkl\")"
   ]
  },
  {
   "cell_type": "code",
   "execution_count": null,
   "metadata": {},
   "outputs": [
    {
     "name": "stdout",
     "output_type": "stream",
     "text": [
      "0\n"
     ]
    }
   ],
   "source": [
    "issolated_nodes = new_model.get_isolated_nodes()\n",
    "print(len(issolated_nodes))\n",
    "\n",
    "# if isolated nodes stil exist, remove them\n",
    "new_model.remove_isolated_nodes()\n",
    "new_model.visualize(file_name=f\"new_graph_{period}.html\")"
   ]
  },
  {
   "cell_type": "markdown",
   "metadata": {},
   "source": [
    "# Evaluate\n"
   ]
  },
  {
   "cell_type": "code",
   "execution_count": null,
   "metadata": {},
   "outputs": [
    {
     "name": "stdout",
     "output_type": "stream",
     "text": [
      "period:  3\n",
      "OLD_PPI: 0.38450638287095373  OLD_CVI:  4.483606557377049 OLD_DCI:  0.0064516129032258064\n",
      "PREV_PPI: 0.20185374555453298  PREV_CVI:  3.9133858267716537 PREV_DCI:  0.0\n",
      "Old_DCI: 0.31012110726643594 DCI:  2.843137254901961 NEX_DCI:  0.0\n"
     ]
    }
   ],
   "source": [
    "model.roll_back(period)\n",
    "prev_model = ChoiceModel(graph_path=f\"new_graph/new_graph_{period-1}.pkl\")\n",
    "OLD_PPI, OLD_CVI, OLD_DCI = model.evaluate()\n",
    "PREV_PPI, PREV_CVI, PREV_DCI = prev_model.evaluate()\n",
    "NEXT_PPI, NEXT_CVI, NEXT_DCI = new_model.evaluate(test_graph)\n",
    "print(\"period: \", period)\n",
    "print(\"OLD_PPI:\", OLD_PPI, \" OLD_CVI: \", OLD_CVI, \"OLD_DCI: \", OLD_DCI)\n",
    "print(\"PREV_PPI:\", PREV_PPI, \" PREV_CVI: \", PREV_CVI, \"PREV_DCI: \", PREV_DCI)\n",
    "print(\"Old_DCI:\", NEXT_PPI, \"DCI: \",  NEXT_CVI, \"NEX_DCI: \", NEXT_DCI)"
   ]
  },
  {
   "cell_type": "code",
   "execution_count": null,
   "metadata": {},
   "outputs": [],
   "source": []
  }
 ],
 "metadata": {
  "kernelspec": {
   "display_name": "Python 3 (ipykernel)",
   "language": "python",
   "name": "python3"
  },
  "language_info": {
   "codemirror_mode": {
    "name": "ipython",
    "version": 3
   },
   "file_extension": ".py",
   "mimetype": "text/x-python",
   "name": "python",
   "nbconvert_exporter": "python",
   "pygments_lexer": "ipython3",
   "version": "3.8.18"
  }
 },
 "nbformat": 4,
 "nbformat_minor": 4
}
