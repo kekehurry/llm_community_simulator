{
 "cells": [
  {
   "cell_type": "code",
   "execution_count": 4,
   "metadata": {},
   "outputs": [],
   "source": [
    "from choice_model import ChoiceModel\n",
    "import networkx as nx"
   ]
  },
  {
   "cell_type": "code",
   "execution_count": 5,
   "metadata": {
    "editable": true,
    "slideshow": {
     "slide_type": ""
    },
    "tags": []
   },
   "outputs": [],
   "source": [
    "folder = 'experiments/sim_data_2'\n",
    "base_url = 'http://localhost:11434'\n",
    "remove_type = None\n",
    "\n",
    "\n",
    "def predict(period, remove_type=None, k1=5, k2=1, top_k=10):\n",
    "    model = ChoiceModel(base_url=base_url)\n",
    "    if period == 0:\n",
    "        test_graph = nx.DiGraph()\n",
    "    else:\n",
    "        prev_period_file = f'{folder}/{period-1}.pkl'\n",
    "        new_model = ChoiceModel(graph_path=prev_period_file, base_url=base_url)\n",
    "        test_graph = new_model.graph.copy()\n",
    "\n",
    "    graph = model.get_period(period)\n",
    "    new_nodes = [n for n in graph.nodes if n not in list(test_graph.nodes)]\n",
    "    new_nodes = [n for n in new_nodes if graph.nodes[n]['type'] != remove_type]\n",
    "\n",
    "    print(\"begin simulation\", len(test_graph.nodes), len(test_graph.edges))\n",
    "    test_graph, failed_nodes = model.predict_links(test_graph, new_nodes, file_name=f\"{folder}/{folder}_{period}.pkl\",\n",
    "                                                   choice_type=None, k1=k1, k2=k2, top_k=top_k, period=period)\n",
    "\n",
    "    if len(failed_nodes) > 0:\n",
    "        print(\"retrying failed nodes\")\n",
    "        test_graph, _ = model.predict_links(test_graph, failed_nodes, file_name=f\"{folder}/{folder}_{period}.pkl\",\n",
    "                                            choice_type=None, k1=k1, k2=k2, top_k=top_k, period=period)\n",
    "\n",
    "    test_graph.remove_edges_from(nx.selfloop_edges(test_graph))\n",
    "    model.save_graph(\n",
    "        file_name=f\"{folder}/period_{period}.pkl\", graph=test_graph)\n",
    "    new_model = ChoiceModel(graph_path=f\"{folder}/period_{period}.pkl\")\n",
    "    new_model.visualize(file_name=f\"{folder}/period_{period}.html\")\n",
    "    print(\"end simulation\", len(test_graph.nodes), len(test_graph.edges))\n",
    "    CPR, ACI, MCP = new_model.evaluate(test_graph)\n",
    "    print(f\"Period {period} CPR: {CPR} ACI: {ACI} MCP: {MCP}\")"
   ]
  },
  {
   "cell_type": "code",
   "execution_count": 6,
   "metadata": {
    "editable": true,
    "slideshow": {
     "slide_type": ""
    },
    "tags": []
   },
   "outputs": [
    {
     "name": "stdout",
     "output_type": "stream",
     "text": [
      "begin simulation 0 0\n"
     ]
    },
    {
     "name": "stderr",
     "output_type": "stream",
     "text": [
      "  1%|          | 1/101 [00:01<01:50,  1.10s/it]"
     ]
    }
   ],
   "source": [
    "for i in range(0, 10):\n",
    "    predict(i, k1=5, k2=1, top_k=10, remove_type=remove_type)"
   ]
  }
 ],
 "metadata": {
  "kernelspec": {
   "display_name": "Python 3 (ipykernel)",
   "language": "python",
   "name": "python3"
  },
  "language_info": {
   "codemirror_mode": {
    "name": "ipython",
    "version": 3
   },
   "file_extension": ".py",
   "mimetype": "text/x-python",
   "name": "python",
   "nbconvert_exporter": "python",
   "pygments_lexer": "ipython3",
   "version": "3.8.18"
  }
 },
 "nbformat": 4,
 "nbformat_minor": 4
}
